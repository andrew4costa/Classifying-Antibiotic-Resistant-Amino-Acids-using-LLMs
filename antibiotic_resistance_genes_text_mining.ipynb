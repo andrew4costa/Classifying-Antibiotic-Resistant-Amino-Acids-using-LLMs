{
 "cells": [
  {
   "cell_type": "markdown",
   "metadata": {
    "id": "u_My7Ig1k7l7"
   },
   "source": [
    "## File Configuration"
   ]
  },
  {
   "cell_type": "code",
   "execution_count": 2,
   "metadata": {
    "colab": {
     "base_uri": "https://localhost:8080/"
    },
    "collapsed": true,
    "id": "EYuorVxkQ1xf",
    "outputId": "665e0114-031a-49ad-c657-0c062526c7a6"
   },
   "outputs": [
    {
     "name": "stdout",
     "output_type": "stream",
     "text": [
      "Requirement already satisfied: transformers in /usr/local/lib/python3.10/site-packages (4.26.1)\n",
      "Requirement already satisfied: huggingface-hub<1.0,>=0.11.0 in /usr/local/lib/python3.10/site-packages (from transformers) (0.12.0)\n",
      "Requirement already satisfied: numpy>=1.17 in /usr/local/lib/python3.10/site-packages (from transformers) (1.24.1)\n",
      "Requirement already satisfied: regex!=2019.12.17 in /usr/local/lib/python3.10/site-packages (from transformers) (2022.10.31)\n",
      "Requirement already satisfied: tokenizers!=0.11.3,<0.14,>=0.11.1 in /usr/local/lib/python3.10/site-packages (from transformers) (0.13.2)\n",
      "Requirement already satisfied: tqdm>=4.27 in /usr/local/lib/python3.10/site-packages (from transformers) (4.64.1)\n",
      "Requirement already satisfied: requests in /usr/local/lib/python3.10/site-packages (from transformers) (2.28.1)\n",
      "Requirement already satisfied: packaging>=20.0 in /usr/local/lib/python3.10/site-packages (from transformers) (22.0)\n",
      "Requirement already satisfied: pyyaml>=5.1 in /usr/local/lib/python3.10/site-packages (from transformers) (6.0)\n",
      "Requirement already satisfied: filelock in /usr/local/lib/python3.10/site-packages (from transformers) (3.9.0)\n",
      "Requirement already satisfied: typing-extensions>=3.7.4.3 in /usr/local/lib/python3.10/site-packages (from huggingface-hub<1.0,>=0.11.0->transformers) (4.4.0)\n",
      "Requirement already satisfied: certifi>=2017.4.17 in /usr/local/lib/python3.10/site-packages (from requests->transformers) (2022.12.7)\n",
      "Requirement already satisfied: urllib3<1.27,>=1.21.1 in /usr/local/lib/python3.10/site-packages (from requests->transformers) (1.26.13)\n",
      "Requirement already satisfied: charset-normalizer<3,>=2 in /usr/local/lib/python3.10/site-packages (from requests->transformers) (2.1.1)\n",
      "Requirement already satisfied: idna<4,>=2.5 in /usr/local/lib/python3.10/site-packages (from requests->transformers) (3.4)\n"
     ]
    }
   ],
   "source": [
    "!pip install transformers"
   ]
  },
  {
   "cell_type": "code",
   "execution_count": 3,
   "metadata": {
    "collapsed": true,
    "id": "zKiR0n_xvfBR"
   },
   "outputs": [
    {
     "name": "stdout",
     "output_type": "stream",
     "text": [
      "Requirement already satisfied: pytorch-lightning in /usr/local/lib/python3.10/site-packages (1.9.2)\n",
      "Requirement already satisfied: torchmetrics>=0.7.0 in /usr/local/lib/python3.10/site-packages (from pytorch-lightning) (0.11.1)\n",
      "Requirement already satisfied: PyYAML>=5.4 in /usr/local/lib/python3.10/site-packages (from pytorch-lightning) (6.0)\n",
      "Requirement already satisfied: packaging>=17.1 in /usr/local/lib/python3.10/site-packages (from pytorch-lightning) (22.0)\n",
      "Requirement already satisfied: typing-extensions>=4.0.0 in /usr/local/lib/python3.10/site-packages (from pytorch-lightning) (4.4.0)\n",
      "Requirement already satisfied: torch>=1.10.0 in /usr/local/lib/python3.10/site-packages (from pytorch-lightning) (1.13.1)\n",
      "Requirement already satisfied: lightning-utilities>=0.6.0.post0 in /usr/local/lib/python3.10/site-packages (from pytorch-lightning) (0.6.0.post0)\n",
      "Requirement already satisfied: tqdm>=4.57.0 in /usr/local/lib/python3.10/site-packages (from pytorch-lightning) (4.64.1)\n",
      "Requirement already satisfied: numpy>=1.17.2 in /usr/local/lib/python3.10/site-packages (from pytorch-lightning) (1.24.1)\n",
      "Requirement already satisfied: fsspec[http]>2021.06.0 in /usr/local/lib/python3.10/site-packages (from pytorch-lightning) (2023.1.0)\n",
      "Requirement already satisfied: aiohttp!=4.0.0a0,!=4.0.0a1 in /usr/local/lib/python3.10/site-packages (from fsspec[http]>2021.06.0->pytorch-lightning) (3.8.3)\n",
      "Requirement already satisfied: requests in /usr/local/lib/python3.10/site-packages (from fsspec[http]>2021.06.0->pytorch-lightning) (2.28.1)\n",
      "Requirement already satisfied: yarl<2.0,>=1.0 in /usr/local/lib/python3.10/site-packages (from aiohttp!=4.0.0a0,!=4.0.0a1->fsspec[http]>2021.06.0->pytorch-lightning) (1.8.2)\n",
      "Requirement already satisfied: frozenlist>=1.1.1 in /usr/local/lib/python3.10/site-packages (from aiohttp!=4.0.0a0,!=4.0.0a1->fsspec[http]>2021.06.0->pytorch-lightning) (1.3.3)\n",
      "Requirement already satisfied: charset-normalizer<3.0,>=2.0 in /usr/local/lib/python3.10/site-packages (from aiohttp!=4.0.0a0,!=4.0.0a1->fsspec[http]>2021.06.0->pytorch-lightning) (2.1.1)\n",
      "Requirement already satisfied: attrs>=17.3.0 in /usr/local/lib/python3.10/site-packages (from aiohttp!=4.0.0a0,!=4.0.0a1->fsspec[http]>2021.06.0->pytorch-lightning) (22.2.0)\n",
      "Requirement already satisfied: async-timeout<5.0,>=4.0.0a3 in /usr/local/lib/python3.10/site-packages (from aiohttp!=4.0.0a0,!=4.0.0a1->fsspec[http]>2021.06.0->pytorch-lightning) (4.0.2)\n",
      "Requirement already satisfied: multidict<7.0,>=4.5 in /usr/local/lib/python3.10/site-packages (from aiohttp!=4.0.0a0,!=4.0.0a1->fsspec[http]>2021.06.0->pytorch-lightning) (6.0.4)\n",
      "Requirement already satisfied: aiosignal>=1.1.2 in /usr/local/lib/python3.10/site-packages (from aiohttp!=4.0.0a0,!=4.0.0a1->fsspec[http]>2021.06.0->pytorch-lightning) (1.3.1)\n",
      "Requirement already satisfied: urllib3<1.27,>=1.21.1 in /usr/local/lib/python3.10/site-packages (from requests->fsspec[http]>2021.06.0->pytorch-lightning) (1.26.13)\n",
      "Requirement already satisfied: idna<4,>=2.5 in /usr/local/lib/python3.10/site-packages (from requests->fsspec[http]>2021.06.0->pytorch-lightning) (3.4)\n",
      "Requirement already satisfied: certifi>=2017.4.17 in /usr/local/lib/python3.10/site-packages (from requests->fsspec[http]>2021.06.0->pytorch-lightning) (2022.12.7)\n"
     ]
    }
   ],
   "source": [
    "!pip install pytorch-lightning"
   ]
  },
  {
   "cell_type": "code",
   "execution_count": 5,
   "metadata": {
    "id": "1FJ9PCYmv94X"
   },
   "outputs": [],
   "source": [
    "import pytorch_lightning as pl\n",
    "#from pytorch_lightning.metrics.functional import accuracy, f1, auroc\n",
    "#from pytorch_lightning.callbacks import ModelCheckpoint, EarlyStopping\n",
    "from pytorch_lightning.loggers import TensorBoardLogger\n",
    "import torch\n",
    "import torch.nn as nn\n",
    "from torch import nn, optim\n",
    "from torch.utils.data import Dataset, DataLoader\n",
    "from transformers import AdamW\n",
    "import random, os\n",
    "import numpy as np \n",
    "import pandas as pd\n",
    "import gc\n",
    "import time\n",
    "import matplotlib.pyplot as plt\n",
    "import seaborn as sns\n",
    "from collections import Counter\n",
    "\n",
    "\n",
    "from tqdm.auto import tqdm"
   ]
  },
  {
   "cell_type": "code",
   "execution_count": 6,
   "metadata": {},
   "outputs": [],
   "source": [
    "device = torch.device('cuda' if torch.cuda.is_available() else 'cpu')"
   ]
  },
  {
   "cell_type": "code",
   "execution_count": null,
   "metadata": {
    "colab": {
     "base_uri": "https://localhost:8080/"
    },
    "id": "PZcdHMQe3P8B",
    "outputId": "537c8c85-f2d5-45ba-a119-84a190f4f4dc"
   },
   "outputs": [],
   "source": [
    "## for the colab version of the notebook\n",
    "#from google.colab import drive\n",
    "#drive.mount('/content/drive')"
   ]
  },
  {
   "cell_type": "code",
   "execution_count": 7,
   "metadata": {
    "id": "6sIVkm6M85MC"
   },
   "outputs": [],
   "source": [
    "train_df = pd.read_csv(\"/Users/andrewcosta/Desktop/Milan/text_mining/project/data/train.csv\")\n",
    "test_df = pd.read_csv(\"/Users/andrewcosta/Desktop/Milan/text_mining/project/data/test.csv\")"
   ]
  },
  {
   "cell_type": "markdown",
   "metadata": {
    "id": "6gbcAcQNlIKw"
   },
   "source": [
    "## Exploratory Data Analysis"
   ]
  },
  {
   "cell_type": "code",
   "execution_count": null,
   "metadata": {
    "colab": {
     "base_uri": "https://localhost:8080/",
     "height": 204
    },
    "id": "5RTNXia2_xjN",
    "outputId": "d0a2e121-557a-4c9b-f766-4ec78834fece"
   },
   "outputs": [],
   "source": [
    "train_df.head()"
   ]
  },
  {
   "cell_type": "code",
   "execution_count": null,
   "metadata": {
    "colab": {
     "base_uri": "https://localhost:8080/"
    },
    "id": "dC3epbryDI0r",
    "outputId": "0d73b147-9c3d-4cfe-ea55-67cc02dc9607"
   },
   "outputs": [],
   "source": [
    "train_df.info()"
   ]
  },
  {
   "cell_type": "code",
   "execution_count": null,
   "metadata": {
    "colab": {
     "base_uri": "https://localhost:8080/",
     "height": 297
    },
    "id": "Ntncy6mcDW-o",
    "outputId": "d6f176bd-f526-49e3-ffeb-3ec25c9547df"
   },
   "outputs": [],
   "source": [
    "train_df.describe()"
   ]
  },
  {
   "cell_type": "code",
   "execution_count": null,
   "metadata": {},
   "outputs": [],
   "source": [
    "train_df.isna().sum()"
   ]
  },
  {
   "cell_type": "code",
   "execution_count": null,
   "metadata": {},
   "outputs": [],
   "source": [
    "unique_classes = train_df.label.unique()\n",
    "print(f'Number of Unique Classes: {len(unique_classes)}')\n",
    "print(f'What are those classes? {unique_classes}')"
   ]
  },
  {
   "cell_type": "code",
   "execution_count": 6,
   "metadata": {
    "id": "t1guvfWzkE8o"
   },
   "outputs": [],
   "source": [
    "train_df['sequence_length'] = train_df['sequence'].apply(lambda x: len(x))"
   ]
  },
  {
   "cell_type": "code",
   "execution_count": null,
   "metadata": {
    "colab": {
     "base_uri": "https://localhost:8080/"
    },
    "id": "suLqDGAsQMjp",
    "outputId": "93b3bce8-2498-425e-a5a7-695f06ff57b7"
   },
   "outputs": [],
   "source": [
    "train_df.sequence.nunique()"
   ]
  },
  {
   "cell_type": "code",
   "execution_count": null,
   "metadata": {},
   "outputs": [],
   "source": [
    "train_df.head()"
   ]
  },
  {
   "cell_type": "code",
   "execution_count": 7,
   "metadata": {
    "colab": {
     "base_uri": "https://localhost:8080/",
     "height": 204
    },
    "id": "S2IWJ9RDlk4z",
    "outputId": "da457952-28d0-4c00-de75-bf25f6dd0c36"
   },
   "outputs": [
    {
     "data": {
      "text/html": [
       "<div>\n",
       "<style scoped>\n",
       "    .dataframe tbody tr th:only-of-type {\n",
       "        vertical-align: middle;\n",
       "    }\n",
       "\n",
       "    .dataframe tbody tr th {\n",
       "        vertical-align: top;\n",
       "    }\n",
       "\n",
       "    .dataframe thead th {\n",
       "        text-align: right;\n",
       "    }\n",
       "</style>\n",
       "<table border=\"1\" class=\"dataframe\">\n",
       "  <thead>\n",
       "    <tr style=\"text-align: right;\">\n",
       "      <th></th>\n",
       "      <th>ID</th>\n",
       "      <th>sequence</th>\n",
       "      <th>sequence_length</th>\n",
       "    </tr>\n",
       "  </thead>\n",
       "  <tbody>\n",
       "    <tr>\n",
       "      <th>0</th>\n",
       "      <td>test_0</td>\n",
       "      <td>MPQHLLSGVRNFTALAVFIAAGNCLAATDLQAVVDANVKPLMQQQA...</td>\n",
       "      <td>384</td>\n",
       "    </tr>\n",
       "    <tr>\n",
       "      <th>1</th>\n",
       "      <td>test_1</td>\n",
       "      <td>MAELPQSRINERNITSEMRESFLDYAMSVIVARALPDVRDGLKPVH...</td>\n",
       "      <td>886</td>\n",
       "    </tr>\n",
       "    <tr>\n",
       "      <th>2</th>\n",
       "      <td>test_2</td>\n",
       "      <td>MSYRDLGLIDSEVIAERRVRALDDSSPSAVPTTGVRVFGCGHDEAV...</td>\n",
       "      <td>350</td>\n",
       "    </tr>\n",
       "    <tr>\n",
       "      <th>3</th>\n",
       "      <td>test_3</td>\n",
       "      <td>MMIKSLCCALLLGLSCSALAAPVSEKQLAEVVANTVTPLMKAQSVP...</td>\n",
       "      <td>381</td>\n",
       "    </tr>\n",
       "    <tr>\n",
       "      <th>4</th>\n",
       "      <td>test_4</td>\n",
       "      <td>MTTLEALILGIIQGVFMFVPVSSTSHLALAQHWLISAGSGMPAPDS...</td>\n",
       "      <td>291</td>\n",
       "    </tr>\n",
       "  </tbody>\n",
       "</table>\n",
       "</div>"
      ],
      "text/plain": [
       "       ID                                           sequence  sequence_length\n",
       "0  test_0  MPQHLLSGVRNFTALAVFIAAGNCLAATDLQAVVDANVKPLMQQQA...              384\n",
       "1  test_1  MAELPQSRINERNITSEMRESFLDYAMSVIVARALPDVRDGLKPVH...              886\n",
       "2  test_2  MSYRDLGLIDSEVIAERRVRALDDSSPSAVPTTGVRVFGCGHDEAV...              350\n",
       "3  test_3  MMIKSLCCALLLGLSCSALAAPVSEKQLAEVVANTVTPLMKAQSVP...              381\n",
       "4  test_4  MTTLEALILGIIQGVFMFVPVSSTSHLALAQHWLISAGSGMPAPDS...              291"
      ]
     },
     "execution_count": 7,
     "metadata": {},
     "output_type": "execute_result"
    }
   ],
   "source": [
    "test_df['sequence_length'] = test_df['sequence'].apply(lambda x: len(x))\n",
    "test_df.head()"
   ]
  },
  {
   "cell_type": "code",
   "execution_count": null,
   "metadata": {
    "id": "nXtHoqGkmYjx"
   },
   "outputs": [],
   "source": [
    "def plot_counts(df, data_name):\n",
    "    sns.distplot(df['sequence_length'])\n",
    "    plt.title(f'Sequnce Count: {data_name}')\n",
    "    plt.grid(True)"
   ]
  },
  {
   "cell_type": "code",
   "execution_count": null,
   "metadata": {
    "colab": {
     "base_uri": "https://localhost:8080/",
     "height": 350
    },
    "id": "6g82ZgAcm34R",
    "outputId": "4d4838ed-fda7-41df-b675-62d38386383b"
   },
   "outputs": [],
   "source": [
    "plot_counts(train_df, 'Train')"
   ]
  },
  {
   "cell_type": "code",
   "execution_count": null,
   "metadata": {
    "colab": {
     "base_uri": "https://localhost:8080/",
     "height": 350
    },
    "id": "DJePs6h7nPvb",
    "outputId": "f76657e6-fc57-437a-c0cd-608e1c1285f3"
   },
   "outputs": [],
   "source": [
    "plot_counts(test_df, 'Test')"
   ]
  },
  {
   "cell_type": "code",
   "execution_count": null,
   "metadata": {
    "id": "ycCpKp53njJb"
   },
   "outputs": [],
   "source": [
    "def amino_acid_frequency(df, data_name):\n",
    "    df = df.apply(lambda x: \" \".join(x))\n",
    "\n",
    "    amino_acids = []\n",
    "\n",
    "    for i in df:\n",
    "        amino_acids.extend(i)\n",
    "  \n",
    "    aa_dict = Counter(amino_acids)\n",
    "    aa_dict.pop(' ') # remove white space\n",
    "\n",
    "    print(f'Amino Acid: {data_name}')\n",
    "    print(f'Total Unique Codes: {len(aa_dict.keys())}')\n",
    "\n",
    "    df = pd.DataFrame({'Code': list(aa_dict.keys()), 'Freq': list(aa_dict.values())})\n",
    "\n",
    "    df.sort_values('Freq', ascending=False).reset_index()[['Code', 'Freq']]\n",
    "  \n",
    "    return sns.barplot(data=df, x = 'Code', y = 'Freq', order = df.sort_values('Freq', ascending = False).Code), plt.title(f'Amino Acid Count: {data_name}')"
   ]
  },
  {
   "cell_type": "code",
   "execution_count": null,
   "metadata": {
    "colab": {
     "base_uri": "https://localhost:8080/",
     "height": 363
    },
    "id": "IA_L8ftvpJ02",
    "outputId": "93b8a065-11f8-4f28-e45e-060bcdc37204"
   },
   "outputs": [],
   "source": [
    "amino_acid_frequency(train_df['sequence'], 'Train')"
   ]
  },
  {
   "cell_type": "code",
   "execution_count": null,
   "metadata": {
    "colab": {
     "base_uri": "https://localhost:8080/",
     "height": 330
    },
    "id": "wITD6loarHhX",
    "outputId": "afb1b9ca-ec43-4888-860a-c5e5ef5fd264"
   },
   "outputs": [],
   "source": [
    "amino_acid_frequency(test_df['sequence'], 'Test')"
   ]
  },
  {
   "cell_type": "markdown",
   "metadata": {
    "id": "bi9Gn_42lWIq"
   },
   "source": [
    "## Feature Engineering"
   ]
  },
  {
   "cell_type": "markdown",
   "metadata": {
    "id": "hYjQUfjC3Fbl"
   },
   "source": [
    "**1 indicates that the gene is antibody resistant and 0 indicates that it is not.**"
   ]
  },
  {
   "cell_type": "code",
   "execution_count": null,
   "metadata": {
    "id": "0a2e4EghENwL"
   },
   "outputs": [],
   "source": [
    "train_df[\"len_seq\"] = train_df[\"sequence\"].apply(lambda seq: len(seq))"
   ]
  },
  {
   "cell_type": "code",
   "execution_count": null,
   "metadata": {
    "colab": {
     "base_uri": "https://localhost:8080/",
     "height": 359
    },
    "id": "QEUdxtPpE5oZ",
    "outputId": "3bea2db9-0076-40c6-d882-90b7229a5f5e"
   },
   "outputs": [],
   "source": [
    "train_df.head(10)"
   ]
  },
  {
   "cell_type": "markdown",
   "metadata": {
    "id": "tQ0JcYmF3Fbu"
   },
   "source": [
    " #### len sequences distribution"
   ]
  },
  {
   "cell_type": "code",
   "execution_count": null,
   "metadata": {
    "colab": {
     "base_uri": "https://localhost:8080/",
     "height": 281
    },
    "id": "XtD5zsJNE8C-",
    "outputId": "3c7d7410-88b7-40c2-9a45-0c87bc86a6a8"
   },
   "outputs": [],
   "source": [
    "counts, bins = np.histogram(train_df[\"len_seq\"])\n",
    "#plt.hist(bins[:-1], bins, weights=counts)\n",
    "train_df.len_seq.plot.density(color='green')\n",
    "plt.title('Density plot for Sequence length')\n",
    "plt.show()"
   ]
  },
  {
   "cell_type": "code",
   "execution_count": null,
   "metadata": {
    "colab": {
     "base_uri": "https://localhost:8080/",
     "height": 625
    },
    "id": "dMtjyDCmFQ_m",
    "outputId": "b5b06cd7-992c-4c7c-da9f-97eaf12c9acf"
   },
   "outputs": [],
   "source": [
    "fig, axes = plt.subplots(1, 1, figsize=(10, 8), sharey=False)\n",
    "fig.suptitle('proteins per class')\n",
    "\n",
    "sns.countplot(train_df[\"label\"] , ax=axes)\n",
    "axes.set_title(train_df[\"label\"].name)"
   ]
  },
  {
   "cell_type": "markdown",
   "metadata": {
    "id": "o8Q22RecQTBm"
   },
   "source": [
    "### preprocessing"
   ]
  },
  {
   "cell_type": "markdown",
   "metadata": {
    "id": "ZbdFCaUgSE-N"
   },
   "source": [
    "#### add spaces"
   ]
  },
  {
   "cell_type": "code",
   "execution_count": 8,
   "metadata": {
    "id": "0-IWj3alQPhG"
   },
   "outputs": [],
   "source": [
    "train_df[\"sequence\"] = train_df[\"sequence\"].apply(lambda seq: \" \".join(seq))"
   ]
  },
  {
   "cell_type": "code",
   "execution_count": null,
   "metadata": {
    "colab": {
     "base_uri": "https://localhost:8080/"
    },
    "id": "Lq4yr4eOQgbg",
    "outputId": "5f7f6fb3-a79c-4933-b51d-87572c40fab0"
   },
   "outputs": [],
   "source": [
    "train_df[\"sequence\"][:3]"
   ]
  },
  {
   "cell_type": "markdown",
   "metadata": {
    "id": "q8Goc-YrSJFJ"
   },
   "source": [
    "#### remove rare amino acid"
   ]
  },
  {
   "cell_type": "code",
   "execution_count": 9,
   "metadata": {
    "id": "2ocAnpzzSIJW"
   },
   "outputs": [],
   "source": [
    "train_df[\"sequence\"] = train_df[\"sequence\"].str.replace(r\"[UZOB]\", 'X', regex=True)"
   ]
  },
  {
   "cell_type": "code",
   "execution_count": null,
   "metadata": {
    "colab": {
     "base_uri": "https://localhost:8080/"
    },
    "id": "3GhR36IYSYGA",
    "outputId": "8a15bb7c-ce6c-4cce-fe16-7d09d2466eb8"
   },
   "outputs": [],
   "source": [
    "train_df[\"sequence\"][:3]"
   ]
  },
  {
   "cell_type": "markdown",
   "metadata": {
    "id": "RMA1jQQpQF9-"
   },
   "source": [
    "### Split Data"
   ]
  },
  {
   "cell_type": "code",
   "execution_count": 10,
   "metadata": {
    "colab": {
     "base_uri": "https://localhost:8080/"
    },
    "id": "PhIhRwuEPDnH",
    "outputId": "1e47018c-ca24-4017-fbaa-05f511fd5b8e"
   },
   "outputs": [
    {
     "data": {
      "text/plain": [
       "((11016, 4), (830, 4))"
      ]
     },
     "execution_count": 10,
     "metadata": {},
     "output_type": "execute_result"
    }
   ],
   "source": [
    "from sklearn.model_selection import train_test_split\n",
    "train, val = train_test_split(train_df, test_size=0.07, random_state=42, shuffle = True)\n",
    "train.shape, val.shape"
   ]
  },
  {
   "cell_type": "code",
   "execution_count": null,
   "metadata": {
    "colab": {
     "base_uri": "https://localhost:8080/",
     "height": 204
    },
    "id": "y5DKMLxKYhyu",
    "outputId": "1d6e4bca-440c-4b9c-8875-74406212a832"
   },
   "outputs": [],
   "source": [
    "val.head()"
   ]
  },
  {
   "cell_type": "code",
   "execution_count": null,
   "metadata": {
    "colab": {
     "base_uri": "https://localhost:8080/",
     "height": 441
    },
    "id": "NZTJ7IvfYrHN",
    "outputId": "192ed398-1d65-46b5-81bb-bdbfc76bbc97"
   },
   "outputs": [],
   "source": [
    "fig, axes = plt.subplots(1, 1, figsize=(8, 5), sharey=False)\n",
    "fig.suptitle('proteins per class')\n",
    "\n",
    "sns.countplot(val[\"label\"] , ax=axes)\n",
    "axes.set_title(val[\"label\"].name)"
   ]
  },
  {
   "cell_type": "markdown",
   "metadata": {
    "id": "4Xvfj4FBYe9l"
   },
   "source": [
    "#### Tokenization"
   ]
  },
  {
   "cell_type": "code",
   "execution_count": 11,
   "metadata": {
    "id": "ait-qhQ6PYXy"
   },
   "outputs": [],
   "source": [
    "from transformers import BertModel, BertTokenizer, AutoConfig, AutoModel, BertConfig\n",
    "import re\n",
    "import torch\n",
    "from torch.utils.data import DataLoader, RandomSampler, SequentialSampler\n",
    "from torch.utils.data import TensorDataset\n",
    "BERT_MODEL_NAME = \"Rostlab/prot_bert\""
   ]
  },
  {
   "cell_type": "code",
   "execution_count": 12,
   "metadata": {},
   "outputs": [],
   "source": [
    "tokenizer = BertTokenizer.from_pretrained(BERT_MODEL_NAME)\n",
    "config = BertConfig.from_pretrained(BERT_MODEL_NAME)"
   ]
  },
  {
   "cell_type": "code",
   "execution_count": 14,
   "metadata": {
    "id": "VAJSYsI7Ng2g"
   },
   "outputs": [],
   "source": [
    "encoded_data_train = tokenizer.batch_encode_plus(\n",
    "    train[\"sequence\"].values,\n",
    "    truncation=True,\n",
    "    add_special_tokens=True,\n",
    "    max_length=256,\n",
    "    padding='max_length',\n",
    "    return_attention_mask=True,\n",
    "    return_tensors='pt',\n",
    ")\n",
    "\n",
    "encoded_data_val = tokenizer.batch_encode_plus(\n",
    "    val[\"sequence\"].values,\n",
    "    truncation=True,\n",
    "    add_special_tokens=True,\n",
    "    max_length=256,\n",
    "    padding='max_length',\n",
    "    return_attention_mask=True,\n",
    "    return_tensors='pt',\n",
    ")"
   ]
  },
  {
   "cell_type": "code",
   "execution_count": 15,
   "metadata": {
    "id": "pYkPjPKaNuSA"
   },
   "outputs": [],
   "source": [
    "input_ids_train = encoded_data_train[\"input_ids\"]\n",
    "attention_masks_train = encoded_data_train[\"attention_mask\"]\n",
    "labels_train = torch.tensor(train[\"label\"].values)\n",
    "\n",
    "input_ids_val = encoded_data_val[\"input_ids\"]\n",
    "attention_masks_val = encoded_data_val[\"attention_mask\"]\n",
    "labels_val = torch.tensor(val[\"label\"].values)"
   ]
  },
  {
   "cell_type": "code",
   "execution_count": 16,
   "metadata": {
    "id": "yi-Av5fnN0e4"
   },
   "outputs": [],
   "source": [
    "train_dataset = TensorDataset(input_ids_train, attention_masks_train, labels_train)\n",
    "val_dataset = TensorDataset(input_ids_val, attention_masks_val, labels_val)"
   ]
  },
  {
   "cell_type": "code",
   "execution_count": 17,
   "metadata": {
    "id": "T3JJ0CDxN7oo"
   },
   "outputs": [],
   "source": [
    "# Create the DataLoaders for our training and validation sets.\n",
    "# We'll take training samples in random order. \n",
    "train_dataloader = DataLoader(\n",
    "    train_dataset,\n",
    "    sampler=RandomSampler(train_dataset),\n",
    "    batch_size=64,\n",
    ")\n",
    "# For validation the order doesn't matter, so we'll just read them sequentially.\n",
    "val_dataloader = DataLoader(\n",
    "    val_dataset,\n",
    "    sampler=SequentialSampler(val_dataset),\n",
    "    batch_size=64,\n",
    ")"
   ]
  },
  {
   "cell_type": "markdown",
   "metadata": {},
   "source": [
    "### Model"
   ]
  },
  {
   "cell_type": "code",
   "execution_count": 18,
   "metadata": {},
   "outputs": [],
   "source": [
    "class ABRClassifier(nn.Module):\n",
    "    def __init__(self, num_classes):\n",
    "        super(ABRClassifier, self).__init__()\n",
    "        self.model_name = \"Rostlab/prot_bert\"\n",
    "        config = AutoConfig.from_pretrained(self.model_name)\n",
    "        self.prot_bert = AutoModel.from_pretrained(self.model_name, config=config)\n",
    "        self.dropout = nn.Dropout(0.5)\n",
    "        self.fc = nn.Linear(self.prot_bert.config.hidden_size, num_classes)\n",
    "        \n",
    "    def forward(self, input_ids, attention_mask):\n",
    "        outputs = self.prot_bert(input_ids = input_ids, attention_mask = attention_mask)\n",
    "        pooled_output = outputs[1]\n",
    "        pooled_output = self.dropout(pooled_output)\n",
    "        logits = self.fc(pooled_output)\n",
    "        return logits"
   ]
  },
  {
   "cell_type": "code",
   "execution_count": 19,
   "metadata": {
    "collapsed": true
   },
   "outputs": [
    {
     "name": "stderr",
     "output_type": "stream",
     "text": [
      "Some weights of the model checkpoint at Rostlab/prot_bert were not used when initializing BertModel: ['cls.predictions.decoder.bias', 'cls.predictions.bias', 'cls.seq_relationship.bias', 'cls.predictions.transform.dense.weight', 'cls.seq_relationship.weight', 'cls.predictions.transform.dense.bias', 'cls.predictions.decoder.weight', 'cls.predictions.transform.LayerNorm.bias', 'cls.predictions.transform.LayerNorm.weight']\n",
      "- This IS expected if you are initializing BertModel from the checkpoint of a model trained on another task or with another architecture (e.g. initializing a BertForSequenceClassification model from a BertForPreTraining model).\n",
      "- This IS NOT expected if you are initializing BertModel from the checkpoint of a model that you expect to be exactly identical (initializing a BertForSequenceClassification model from a BertForSequenceClassification model).\n"
     ]
    }
   ],
   "source": [
    "model = ABRClassifier(num_classes = 2).to(device)\n",
    "optimizer = torch.optim.Adam(model.parameters(), lr = 1e-4)\n",
    "loss = nn.CrossEntropyLoss()"
   ]
  },
  {
   "cell_type": "code",
   "execution_count": 1,
   "metadata": {},
   "outputs": [
    {
     "ename": "NameError",
     "evalue": "name 'train_dataloader' is not defined",
     "output_type": "error",
     "traceback": [
      "\u001b[0;31m---------------------------------------------------------------------------\u001b[0m",
      "\u001b[0;31mNameError\u001b[0m                                 Traceback (most recent call last)",
      "Cell \u001b[0;32mIn[1], line 4\u001b[0m\n\u001b[1;32m      2\u001b[0m num_classes \u001b[38;5;241m=\u001b[39m \u001b[38;5;241m2\u001b[39m\n\u001b[1;32m      3\u001b[0m \u001b[38;5;28;01mfor\u001b[39;00m epoch \u001b[38;5;129;01min\u001b[39;00m \u001b[38;5;28mrange\u001b[39m(EPOCHS):\n\u001b[0;32m----> 4\u001b[0m     \u001b[38;5;28;01mfor\u001b[39;00m batch \u001b[38;5;129;01min\u001b[39;00m \u001b[43mtrain_dataloader\u001b[49m:\n\u001b[1;32m      5\u001b[0m         input_ids \u001b[38;5;241m=\u001b[39m batch[\u001b[38;5;241m0\u001b[39m]\u001b[38;5;241m.\u001b[39mto(device)\n\u001b[1;32m      6\u001b[0m         attention_mask \u001b[38;5;241m=\u001b[39m batch[\u001b[38;5;241m1\u001b[39m]\u001b[38;5;241m.\u001b[39mto(device)\n",
      "\u001b[0;31mNameError\u001b[0m: name 'train_dataloader' is not defined"
     ]
    }
   ],
   "source": [
    "EPOCHS = 10\n",
    "num_classes = 2\n",
    "for epoch in range(EPOCHS):\n",
    "    for batch in train_dataloader:\n",
    "        input_ids = batch[0].to(device)\n",
    "        attention_mask = batch[1].to(device)\n",
    "        labels = batch[2].to(device)\n",
    "        \n",
    "        optimizer.zero_grad()\n",
    "        outputs = model(input_ids, attention_mask)\n",
    "        logits = model.fc(outputs)\n",
    "        loss = loss(logits, labels)\n",
    "        loss.backward()\n",
    "        optimizer.step()\n",
    "        \n",
    "    print(f'Epoch: {epoch+1}/{EPOCHS}, Loss: {loss.item(): .4f}')"
   ]
  },
  {
   "cell_type": "markdown",
   "metadata": {
    "id": "3ev-WTe8ZUa4"
   },
   "source": [
    "#### Dataloaders"
   ]
  },
  {
   "cell_type": "markdown",
   "metadata": {
    "id": "S1sveeWs3FcQ"
   },
   "source": [
    "Tokenization"
   ]
  },
  {
   "cell_type": "code",
   "execution_count": null,
   "metadata": {
    "id": "otKydG8z3Fcc"
   },
   "outputs": [],
   "source": [
    "device = torch.device(\"cuda\" if torch.cuda.is_available() else \"cpu\")"
   ]
  },
  {
   "cell_type": "code",
   "execution_count": null,
   "metadata": {
    "colab": {
     "base_uri": "https://localhost:8080/"
    },
    "id": "vEBozlC13Fcd",
    "outputId": "5172589c-ecd6-4362-e2da-ed5ada070edf"
   },
   "outputs": [],
   "source": [
    "device"
   ]
  },
  {
   "cell_type": "code",
   "execution_count": null,
   "metadata": {
    "colab": {
     "base_uri": "https://localhost:8080/"
    },
    "id": "uvR7DOeY3Fcf",
    "outputId": "823917eb-a8c6-449c-9ee5-f1a277623955"
   },
   "outputs": [],
   "source": [
    "model.to(device)"
   ]
  },
  {
   "cell_type": "markdown",
   "metadata": {
    "id": "JZZ-lGUC9GH3"
   },
   "source": [
    "##Model"
   ]
  },
  {
   "cell_type": "code",
   "execution_count": null,
   "metadata": {
    "id": "I1XPgFBz9mm-"
   },
   "outputs": [],
   "source": [
    "!pip install transformers"
   ]
  },
  {
   "cell_type": "code",
   "execution_count": null,
   "metadata": {
    "id": "XLbfC_V79IWF"
   },
   "outputs": [],
   "source": [
    "from transformers import BertModel, BertTokenizer, AdamW\n",
    "import torch\n",
    "import torch.nn as nn\n",
    "import torch.nn.functional as F"
   ]
  },
  {
   "cell_type": "code",
   "execution_count": null,
   "metadata": {
    "id": "k2Kbaxim9azP"
   },
   "outputs": [],
   "source": [
    "pretrained_model_name = \"Rostlab/prot_bert\"\n",
    "\n",
    "class resistance_classifier(nn.Module):\n",
    "  def __init__(self, num_classes):\n",
    "    super(resistance_classifier, self).__init__()\n",
    "    self.bert = BertModel.from_pretrained(pretrained_model_name)\n",
    "    self.classifier = nn.Sequential(nn.Dropout(p-0.2),\n",
    "                                    nn.Linear(self.bert.config.hidden_size, num_classes),\n",
    "                                    nn.Tanh())\n",
    "  \n",
    "  def forward(self, input_ids, attention_mask):\n",
    "    output = self.bert(\n",
    "        input_ids = input_ids,\n",
    "        attention_mask = attention_mask\n",
    "    )\n",
    "  \n",
    "    return self.classifier(output.pooler_output)"
   ]
  },
  {
   "cell_type": "markdown",
   "metadata": {
    "id": "BY1iLEAw3Fcg"
   },
   "source": [
    "## **Feature extraction using pretrained prot bert**"
   ]
  },
  {
   "cell_type": "code",
   "execution_count": null,
   "metadata": {
    "colab": {
     "background_save": true,
     "base_uri": "https://localhost:8080/",
     "height": 49,
     "referenced_widgets": [
      "2a9c67a1325f4d95ad695aaf6e398edb",
      "2c37dbedaf6043fcaa4c264ef1926595",
      "f68fe741ddb349d7b85bbcee521f25e9",
      "8ba6a7edff1c4a148210fc3dc2c9eb0f",
      "5631e55fc6374d5d8b6d74a49e7ef851",
      "ab7a03ea7ad14eea886dcb24fee6ff8e",
      "7df01074a96842c8b0faa3ad09db0ce6",
      "1c0cbbea0ede4f00908d46f69d519935",
      "957888fcad2744f7b39fe01dd841a9a4",
      "5be91f6cebb64c0bbdb22ce8375d76ce",
      "70e844de5e0541a590ebd8b9b246903a"
     ]
    },
    "id": "09WY3TEg3Fcg",
    "outputId": "31d63ca8-5711-4905-ef20-d56901f6a39c"
   },
   "outputs": [],
   "source": [
    "emb_train_list = []\n",
    "class_train_list = []\n",
    "model.eval()\n",
    "for batch in tqdm(train_dataloader):\n",
    "    batch = tuple(k.to(device) for k in batch)\n",
    "    classes = batch[-1]\n",
    "    inputs = {'input_ids':      batch[0],\n",
    "            'attention_mask': batch[1],\n",
    "            }\n",
    "  # Extract per-residue embeddings (on GPU)\n",
    "    with torch.no_grad():\n",
    "        outputs = model(**inputs)\n",
    "\n",
    "    embeddings_t = outputs.last_hidden_state\n",
    "    embeddings_t = embeddings_t.detach().cpu().numpy()\n",
    "    classes = classes.detach().cpu().numpy()\n",
    "  # Generate per-sequence embeddings via averaging\n",
    "    seq_emb = np.mean(embeddings_t, axis=1)\n",
    "    emb_train_list.append(seq_emb)\n",
    "    class_train_list.append(classes)"
   ]
  },
  {
   "cell_type": "code",
   "execution_count": null,
   "metadata": {
    "id": "UezZE5Mu3Fci",
    "outputId": "1241c977-6481-4d0f-ae2e-b2f6f983157b"
   },
   "outputs": [],
   "source": [
    "batch"
   ]
  },
  {
   "cell_type": "code",
   "execution_count": null,
   "metadata": {
    "id": "s5TFWB1E3Fcj",
    "outputId": "c3b044f7-cea8-4bff-d007-62584c992611"
   },
   "outputs": [],
   "source": [
    "embeddings_t"
   ]
  },
  {
   "cell_type": "code",
   "execution_count": null,
   "metadata": {
    "id": "d-XyV0o_3Fck",
    "outputId": "b6f15109-51eb-435f-c498-fe9b0a51f74e"
   },
   "outputs": [],
   "source": [
    "embeddings_t.shape"
   ]
  },
  {
   "cell_type": "code",
   "execution_count": null,
   "metadata": {
    "id": "60xAau8E3Fcm",
    "outputId": "853aa622-e53b-4ded-b41a-236e3826e172"
   },
   "outputs": [],
   "source": [
    "print(seq_emb)\n",
    "print(seq_emb.shape)"
   ]
  },
  {
   "cell_type": "code",
   "execution_count": null,
   "metadata": {
    "colab": {
     "referenced_widgets": [
      "abd095fe6bc447149c90a81164706941"
     ]
    },
    "id": "9VqwDhKR3Fcn",
    "outputId": "8a1b1ed9-42d6-498d-f630-8fe313628271"
   },
   "outputs": [],
   "source": [
    "emb_val_list = []\n",
    "class_val_list = []\n",
    "model.eval()\n",
    "for batch in tqdm(val_dataloader):\n",
    "    batch = tuple(k.to(device) for k in batch)\n",
    "    classes = batch[-1]\n",
    "    inputs = {'input_ids':      batch[0],\n",
    "            'attention_mask': batch[1],\n",
    "            }\n",
    "  # Extract per-residue embeddings (on GPU)\n",
    "    with torch.no_grad():\n",
    "        outputs = model(**inputs)\n",
    "\n",
    "    embeddings = outputs.last_hidden_state\n",
    "    embeddings = embeddings.detach().cpu().numpy()\n",
    "    classes = classes.detach().cpu().numpy()\n",
    "  # Generate per-sequence embeddings via averaging\n",
    "    seq_val_emb = np.mean(embeddings, axis=1)\n",
    "    emb_val_list.append(seq_val_emb)\n",
    "    class_val_list.append(classes)"
   ]
  },
  {
   "cell_type": "code",
   "execution_count": null,
   "metadata": {
    "id": "g7EnLJyw3Fco"
   },
   "outputs": [],
   "source": [
    "# get class train embeddings\n",
    "emb_train_vectors = np.concatenate(emb_train_list, axis=0)"
   ]
  },
  {
   "cell_type": "code",
   "execution_count": null,
   "metadata": {
    "id": "7_8l6tqB3Fcp",
    "outputId": "79b19689-3236-4793-f8d0-3ffd9df8b2db"
   },
   "outputs": [],
   "source": [
    "emb_train_vectors.shape"
   ]
  },
  {
   "cell_type": "code",
   "execution_count": null,
   "metadata": {
    "id": "TcQ0KRrz3Fcq",
    "outputId": "8acada78-886a-487d-8e1e-f3e021a36774"
   },
   "outputs": [],
   "source": [
    "emb_train_vectors[1]"
   ]
  },
  {
   "cell_type": "code",
   "execution_count": null,
   "metadata": {
    "id": "oxXDVI3h3Fcq"
   },
   "outputs": [],
   "source": [
    "# get class train vectors\n",
    "class_train_vectors = np.concatenate(class_train_list, axis=0)"
   ]
  },
  {
   "cell_type": "code",
   "execution_count": null,
   "metadata": {
    "id": "iq7oKR_O3Fcr",
    "outputId": "829add43-9c4e-46d3-bc32-f1bc1d9d4760"
   },
   "outputs": [],
   "source": [
    "class_train_vectors.shape"
   ]
  },
  {
   "cell_type": "code",
   "execution_count": null,
   "metadata": {
    "id": "xv_KddwW3Fcr",
    "outputId": "4fed2968-3cc7-48de-f776-b62d5582da8a"
   },
   "outputs": [],
   "source": [
    "class_train_vectors[:10]"
   ]
  },
  {
   "cell_type": "code",
   "execution_count": null,
   "metadata": {
    "id": "SqnxvLL-3Fcs"
   },
   "outputs": [],
   "source": [
    "from sklearn.preprocessing import LabelEncoder"
   ]
  },
  {
   "cell_type": "code",
   "execution_count": null,
   "metadata": {
    "id": "bVdHRKw73Fcs"
   },
   "outputs": [],
   "source": [
    "label_encoder_class = LabelEncoder()"
   ]
  },
  {
   "cell_type": "code",
   "execution_count": null,
   "metadata": {
    "id": "rJTw5ARU3Fct"
   },
   "outputs": [],
   "source": [
    "import plotly\n",
    "import numpy as np\n",
    "import plotly.graph_objs as go\n",
    "from sklearn.decomposition import PCA"
   ]
  },
  {
   "cell_type": "markdown",
   "metadata": {
    "id": "xGu7j9Np3Fct"
   },
   "source": [
    "## **2D PCA visualization**"
   ]
  },
  {
   "cell_type": "code",
   "execution_count": null,
   "metadata": {
    "id": "pt1QOb8G3Fcu",
    "outputId": "0a59bd95-b9c4-46f9-c5ab-9654f59bc1c8"
   },
   "outputs": [],
   "source": [
    "import plotly.express as px\n",
    "seq_vectors = emb_train_vectors.copy()\n",
    "two_dim = PCA(random_state=0, n_components=2).fit_transform(seq_vectors)\n",
    "fig = px.scatter(x=two_dim[:,0], y=two_dim[:,1], color=class_train_vectors)\n",
    "fig.show()"
   ]
  },
  {
   "cell_type": "markdown",
   "metadata": {
    "id": "_B6oc5Q83Fcu"
   },
   "source": [
    "## **3D PCA for feature vizualisation**"
   ]
  },
  {
   "cell_type": "code",
   "execution_count": null,
   "metadata": {
    "id": "Zt73KfNM3Fcv",
    "outputId": "e48a900f-d13b-4fb3-cd6e-805c0676311b"
   },
   "outputs": [],
   "source": [
    "seq_vectors = emb_train_vectors.copy()\n",
    "n_dim = PCA(random_state=0, n_components=3).fit_transform(seq_vectors)\n",
    "fig = px.scatter_3d(x=n_dim[:,0], y=n_dim[:,1], z=n_dim[:,2], color=class_train_vectors)\n",
    "fig.show()"
   ]
  },
  {
   "cell_type": "markdown",
   "metadata": {
    "id": "gRqEgSsP3Fcv"
   },
   "source": [
    "## **T-distributed Stochastic Neighbor Embedding**"
   ]
  },
  {
   "cell_type": "markdown",
   "metadata": {
    "id": "tdySIVTP3Fcx"
   },
   "source": [
    "### **2D vizualisation**"
   ]
  },
  {
   "cell_type": "code",
   "execution_count": null,
   "metadata": {
    "id": "eS6W5qxL3Fcx",
    "outputId": "ee5ff21f-6f87-45c4-9e65-5a795099f1e4"
   },
   "outputs": [],
   "source": [
    "from sklearn.manifold import TSNE\n",
    "fifty_dim = PCA(random_state=0, n_components=100).fit_transform(seq_vectors)\n",
    "two_dim = TSNE(n_components=2).fit_transform(fifty_dim)\n",
    "fig = px.scatter(x=two_dim[:,0], y=two_dim[:,1], color=class_train_vectors)\n",
    "fig.show()"
   ]
  },
  {
   "cell_type": "markdown",
   "metadata": {
    "id": "DEATBtcJ3Fcy"
   },
   "source": [
    "### **3D vizualisation**"
   ]
  },
  {
   "cell_type": "code",
   "execution_count": null,
   "metadata": {
    "id": "pPBm27vj3Fcz",
    "outputId": "a0571a5d-5290-44b0-9cb8-29ac8c65738e"
   },
   "outputs": [],
   "source": [
    "fifty_dim = PCA(random_state=0, n_components=100).fit_transform(seq_vectors)\n",
    "three_dim = TSNE(n_components=3).fit_transform(fifty_dim)\n",
    "fig = px.scatter_3d(x=three_dim[:,0], y=three_dim[:,1], z=three_dim[:,2], color=class_train_vectors)\n",
    "fig.show()"
   ]
  },
  {
   "cell_type": "markdown",
   "metadata": {
    "id": "yeAHKVJ23Fc0"
   },
   "source": [
    "## **MD Scaling** "
   ]
  },
  {
   "cell_type": "markdown",
   "metadata": {
    "id": "9GRYM2nq3Fc0"
   },
   "source": [
    "## **2D vizualisations**"
   ]
  },
  {
   "cell_type": "code",
   "execution_count": null,
   "metadata": {
    "colab": {
     "background_save": true
    },
    "id": "s3J6EMY_3Fc1",
    "outputId": "6c9bc7d0-341a-405f-9fdd-6dc22451e6b2"
   },
   "outputs": [],
   "source": [
    "from sklearn.manifold import MDS\n",
    "fifty_dims = PCA(random_state=0, n_components=50).fit_transform(seq_vectors)\n",
    "md_scaling = MDS(n_components=3)\n",
    "S_scaling = md_scaling.fit_transform(fifty_dims)\n",
    "fig = px.scatter_3d(x=S_scaling[:,0], y=S_scaling[:,1], z=S_scaling[:,2], color=class_train_vectors)\n",
    "fig.show()"
   ]
  },
  {
   "cell_type": "code",
   "execution_count": null,
   "metadata": {
    "id": "e1UJzc8p3Fc1",
    "outputId": "ac0d2404-7317-4f2d-81e3-ea2344bac014"
   },
   "outputs": [],
   "source": [
    "fig = px.scatter(x=S_scaling[:,0], y=S_scaling[:,1], color=class_train_vectors)\n",
    "fig.show()"
   ]
  },
  {
   "cell_type": "code",
   "execution_count": null,
   "metadata": {
    "id": "jsU388Lb3Fc2",
    "outputId": "ec823a6d-ff19-4858-c9df-8db3e8235fa3"
   },
   "outputs": [],
   "source": [
    "fifty_dims = PCA(random_state=0, n_components=3).fit_transform(seq_vectors)\n",
    "md_scaling = MDS(n_components=3)\n",
    "S3_scaling = md_scaling.fit_transform(fifty_dims)\n",
    "fig = px.scatter_3d(x=S3_scaling[:,0], y=S3_scaling[:,1], z=S3_scaling[:,2], color=class_train_vectors)\n",
    "fig.show()"
   ]
  },
  {
   "cell_type": "markdown",
   "metadata": {
    "id": "K1oyqgHh3Fc3"
   },
   "source": [
    "## **Spectral embeddings** "
   ]
  },
  {
   "cell_type": "code",
   "execution_count": null,
   "metadata": {
    "id": "WOyUpPTT3Fc4"
   },
   "outputs": [],
   "source": [
    "from sklearn.manifold import SpectralEmbedding\n",
    "fifty_dims = PCA(random_state=0, n_components=3).fit_transform(seq_vectors)\n",
    "spectral = SpectralEmbedding(n_components=3)\n",
    "S3_spectral = spectral.fit_transform(fifty_dims)"
   ]
  },
  {
   "cell_type": "code",
   "execution_count": null,
   "metadata": {
    "id": "yDTVO3kb3Fc4",
    "outputId": "7f09dbe5-083b-4fea-dbc9-3ffff0aab47b"
   },
   "outputs": [],
   "source": [
    "fig = px.scatter_3d(x=S3_spectral[:,0], y=S3_spectral[:,1], z=S3_spectral[:,2], color=class_train_vectors)\n",
    "fig.show()"
   ]
  },
  {
   "cell_type": "markdown",
   "metadata": {
    "id": "Pldpw89p3Fc5"
   },
   "source": [
    "## **ISO map embeddings**"
   ]
  },
  {
   "cell_type": "code",
   "execution_count": null,
   "metadata": {
    "id": "h9-dxO3A3Fc5",
    "outputId": "c7510267-aa31-49e1-fcef-1661116ec420"
   },
   "outputs": [],
   "source": [
    "from sklearn.manifold import Isomap \n",
    "fifty_dims = PCA(random_state=0, n_components=3).fit_transform(seq_vectors)\n",
    "isomap = Isomap(n_neighbors=2,n_components=3)\n",
    "S_isomap = isomap.fit_transform(fifty_dims)\n",
    "fig = px.scatter_3d(x=S_isomap[:,0], y=S_isomap[:,1], z=S_isomap[:,2], color=class_train_vectors)\n",
    "fig.show()"
   ]
  },
  {
   "cell_type": "code",
   "execution_count": null,
   "metadata": {
    "id": "Vqgty3Z53Fc6",
    "outputId": "2b87b839-27bb-4942-e0b7-82c033c1561d"
   },
   "outputs": [],
   "source": [
    "from sklearn.manifold import Isomap \n",
    "fifty_dims = PCA(random_state=0, n_components=50).fit_transform(seq_vectors)\n",
    "isomap = Isomap(n_components=3)\n",
    "S_isomap = isomap.fit_transform(fifty_dims)\n",
    "fig = px.scatter_3d(x=S_isomap[:,0], y=S_isomap[:,1], z=S_isomap[:,2], color=class_train_vectors)\n",
    "fig.show()"
   ]
  },
  {
   "cell_type": "code",
   "execution_count": null,
   "metadata": {
    "id": "dHjRhdD63Fc6"
   },
   "outputs": [],
   "source": [
    "from sklearn.svm import SVC\n",
    "clf = SVC()"
   ]
  },
  {
   "cell_type": "code",
   "execution_count": null,
   "metadata": {
    "id": "H3cA2qTp3Fc7",
    "outputId": "2f478c35-7d07-4893-baef-e09920b007a5"
   },
   "outputs": [],
   "source": [
    "clf.fit(seq_vectors, class_vectors)"
   ]
  },
  {
   "cell_type": "code",
   "execution_count": null,
   "metadata": {
    "id": "JPsWG-YU3Fc7",
    "outputId": "9be63e11-2ab8-47f1-9215-1a228cb72462"
   },
   "outputs": [],
   "source": [
    "#class_vectors_name = label_encoder_class.inverse_transform(class_vectors)"
   ]
  },
  {
   "cell_type": "markdown",
   "metadata": {
    "id": "3z_VyfOodVdI"
   },
   "source": [
    "#### finetuning bert pretrained model"
   ]
  },
  {
   "cell_type": "code",
   "execution_count": null,
   "metadata": {
    "id": "MvbB2KJIZ3TE"
   },
   "outputs": [],
   "source": [
    "#from transformers import BertForSequenceClassification\n",
    "from transformers import BertModel\n",
    "BERT_MODEL_NAME = \"Rostlab/prot_bert\""
   ]
  },
  {
   "cell_type": "code",
   "execution_count": null,
   "metadata": {
    "id": "jvKJj01QxZvJ"
   },
   "outputs": [],
   "source": [
    "BATCH_SIZE = 8\n",
    "N_EPOCHS = 20"
   ]
  },
  {
   "cell_type": "code",
   "execution_count": null,
   "metadata": {
    "id": "e1jbvUN0xRO3"
   },
   "outputs": [],
   "source": [
    "steps_per_epoch=len(train) // BATCH_SIZE\n",
    "total_training_steps = steps_per_epoch * N_EPOCHS"
   ]
  },
  {
   "cell_type": "code",
   "execution_count": null,
   "metadata": {
    "id": "yjGNLh723Fc-"
   },
   "outputs": [],
   "source": [
    "len(train_dataloader)"
   ]
  },
  {
   "cell_type": "code",
   "execution_count": null,
   "metadata": {
    "id": "hrBKfoq23Fc-"
   },
   "outputs": [],
   "source": [
    "len(val)"
   ]
  },
  {
   "cell_type": "code",
   "execution_count": null,
   "metadata": {
    "id": "eYuk2U97RUzf"
   },
   "outputs": [],
   "source": [
    "from torch.optim import Adam\n",
    "from tqdm import tqdm\n",
    "\n",
    "def trainer(model, train_dataloader, val_dataloader, learning_rate, epochs , len_val , len_train):\n",
    "\n",
    "    #train, val = Dataset(train_data), Dataset(val_data)\n",
    "\n",
    "    #train_dataloader = torch.utils.data.DataLoader(train, batch_size=2, shuffle=True)\n",
    "    #val_dataloader = torch.utils.data.DataLoader(val, batch_size=2)\n",
    "\n",
    "    use_cuda = torch.cuda.is_available()\n",
    "    device = torch.device(\"cuda\" if use_cuda else \"cpu\")\n",
    "\n",
    "    criterion = nn.CrossEntropyLoss()\n",
    "    optimizer = Adam(model.parameters(), lr= learning_rate)\n",
    "\n",
    "    if use_cuda:\n",
    "\n",
    "            model = model.cuda()\n",
    "            criterion = criterion.cuda()\n",
    "            \n",
    "    val_loss_list = []\n",
    "  \n",
    "    for epoch_num in range(epochs):\n",
    "\n",
    "            total_acc_train = 0\n",
    "            total_loss_train = 0\n",
    "\n",
    "            for batch in tqdm(train_dataloader):\n",
    "                batch = tuple(b.to(device) for b in batch)\n",
    "                inputs = {'input_ids':      batch[0],\n",
    "                        'attention_mask': batch[1],\n",
    "                        'labels':         batch[2],\n",
    "                        }\n",
    "\n",
    "                train_label = inputs['labels']\n",
    "                mask = inputs['attention_mask']\n",
    "                input_id = inputs['input_ids']\n",
    "\n",
    "                output = model(input_id, mask)\n",
    "                \n",
    "                batch_loss = criterion(output, train_label.long())\n",
    "                total_loss_train += batch_loss.item()\n",
    "                \n",
    "                acc = (output.argmax(dim=1) == train_label).sum().item()\n",
    "                total_acc_train += acc\n",
    "\n",
    "                model.zero_grad()\n",
    "                batch_loss.backward()\n",
    "                optimizer.step()\n",
    "            \n",
    "            total_acc_val = 0\n",
    "            total_loss_val = 0\n",
    "\n",
    "            with torch.no_grad():\n",
    "\n",
    "                for val_b in val_dataloader:\n",
    "                    val_b = tuple(b.to(device) for b in val_b)\n",
    "        \n",
    "                    val_input = {'input_ids':      val_b[0],\n",
    "                              'attention_mask': val_b[1],\n",
    "                              'labels':         val_b[2],\n",
    "                              }\n",
    "\n",
    "                    val_label = val_input[\"labels\"]\n",
    "                    mask = val_input['attention_mask']\n",
    "                    input_id = val_input['input_ids']\n",
    "\n",
    "                    \n",
    "\n",
    "                    output = model(input_id, mask)\n",
    "\n",
    "                    batch_loss = criterion(output, val_label.long())\n",
    "                    total_loss_val += batch_loss.item()\n",
    "                    \n",
    "                    acc = (output.argmax(dim=1) == val_label).sum().item()\n",
    "                    total_acc_val += acc\n",
    "            current_val_loss = total_loss_val\n",
    "            val_loss_list.append(total_loss_val)\n",
    "            print(\n",
    "                f'Epochs: {epoch_num + 1} | Train Loss: {total_loss_train / len_train: .3f} \\\n",
    "                | Train Accuracy: {total_acc_train /len_train: .3f} \\\n",
    "                | Val Loss: {total_loss_val / len_val: .3f} \\\n",
    "                | Val Accuracy: {total_acc_val / len_val: .3f}')\n",
    "            \n",
    "            if current_val_loss == min(val_loss_list):\n",
    "                path = os.path.join('/kaggle/working', \"epoch\"+str(epoch_num + 1)+'_model.pth')\n",
    "                # recommended way from http://pytorch.org/docs/master/notes/serialization.html\n",
    "                torch.save(model.state_dict(), path)\n",
    "                logger.info(f\"Saving model: {path} \\n\")"
   ]
  },
  {
   "cell_type": "code",
   "execution_count": null,
   "metadata": {
    "id": "ldiqWQWlSB2P"
   },
   "outputs": [],
   "source": [
    "from transformers import BertModel, BertTokenizer, AdamW, get_linear_schedule_with_warmup\n",
    "import torch\n",
    "import torch.nn.functional as F\n",
    "import torch.nn as nn\n",
    "\n",
    "\n",
    "#PRE_TRAINED_MODEL_NAME = BERT_MODEL_NAME\n",
    "PRE_TRAINED_MODEL_NAME = 'Rostlab/prot_bert_bfd_localization'\n",
    "class ProteinClassifier(nn.Module):\n",
    "    def __init__(self, n_classes):\n",
    "        super(ProteinClassifier, self).__init__()\n",
    "        self.bert = BertModel.from_pretrained(PRE_TRAINED_MODEL_NAME)\n",
    "        self.classifier = nn.Sequential(nn.Dropout(p=0.7),\n",
    "                                        nn.Linear(self.bert.config.hidden_size, n_classes),\n",
    "                                        nn.Sigmoid())\n",
    "        \n",
    "    def forward(self, input_ids, attention_mask):\n",
    "        output = self.bert(\n",
    "          input_ids=input_ids,\n",
    "          attention_mask=attention_mask\n",
    "        )\n",
    "        return self.classifier(output.pooler_output)"
   ]
  },
  {
   "cell_type": "code",
   "execution_count": null,
   "metadata": {
    "id": "XifJgWmNYjQ2"
   },
   "outputs": [],
   "source": [
    "#from transformers import BertForSequenceClassification\n",
    "#model = BertForSequenceClassification.from_pretrained(\"Rostlab/prot_bert\", num_labels=2,output_attentions=False,output_hidden_states=False)"
   ]
  },
  {
   "cell_type": "code",
   "execution_count": null,
   "metadata": {
    "id": "TFjr6jJKRcyX"
   },
   "outputs": [],
   "source": [
    "epochs = 50\n",
    "learning_rate = 2e-5\n",
    "#model = ProteinClassifier()\n",
    "model = ProteinClassifier(2)"
   ]
  },
  {
   "cell_type": "code",
   "execution_count": null,
   "metadata": {
    "id": "2DjwpY-S3FdG"
   },
   "outputs": [],
   "source": [
    "torch.cuda.empty_cache()"
   ]
  },
  {
   "cell_type": "code",
   "execution_count": null,
   "metadata": {
    "id": "QFeryrqc3FdG"
   },
   "outputs": [],
   "source": [
    "len_train = len(train)\n",
    "len_val = len(val)"
   ]
  },
  {
   "cell_type": "code",
   "execution_count": null,
   "metadata": {
    "id": "_7qV2bUyeDNU"
   },
   "outputs": [],
   "source": [
    "trainer(model, train_dataloader, val_dataloader, learning_rate, epochs, len_val, len_train)"
   ]
  },
  {
   "cell_type": "code",
   "execution_count": null,
   "metadata": {
    "id": "grw-jgGi3FdI"
   },
   "outputs": [],
   "source": [
    "torch.cuda.memory_summary(device=None, abbreviated=False)\n"
   ]
  },
  {
   "cell_type": "code",
   "execution_count": null,
   "metadata": {
    "id": "wDOa6ksk3FdW"
   },
   "outputs": [],
   "source": [
    "!nvidia-smi "
   ]
  },
  {
   "cell_type": "code",
   "execution_count": null,
   "metadata": {
    "id": "0G2sCaqdwARo"
   },
   "outputs": [],
   "source": [
    "def save_model(model):\n",
    "    path = os.path.join('/content/drive/MyDrive/Iovision_workspace/Logs', 'model.pth')\n",
    "    # recommended way from http://pytorch.org/docs/master/notes/serialization.html\n",
    "    torch.save(model.state_dict(), path)\n",
    "    logger.info(f\"Saving model: {path} \\n\")"
   ]
  },
  {
   "cell_type": "markdown",
   "metadata": {
    "id": "c0iJlaPrwZgf"
   },
   "source": [
    "#### test preprocessing"
   ]
  },
  {
   "cell_type": "code",
   "execution_count": null,
   "metadata": {
    "id": "h6SsFy-6wYVI"
   },
   "outputs": [],
   "source": [
    "test_df = pd.read_csv(\"/kaggle/input/antibiotic-protein/test (3).csv\")"
   ]
  },
  {
   "cell_type": "code",
   "execution_count": null,
   "metadata": {
    "id": "B6o2mjxBwoDZ",
    "outputId": "4c3da4f2-9456-4b65-cb4f-d78d64487ef0"
   },
   "outputs": [],
   "source": [
    "test_df.head()"
   ]
  },
  {
   "cell_type": "code",
   "execution_count": null,
   "metadata": {
    "id": "6UhMgvQGzRtY"
   },
   "outputs": [],
   "source": [
    "test_df.columns"
   ]
  },
  {
   "cell_type": "code",
   "execution_count": null,
   "metadata": {
    "id": "7eY4FpVlwl4A"
   },
   "outputs": [],
   "source": [
    "test_df[\"sequence\"] = test_df[\"sequence\"].apply(lambda seq: \" \".join(seq))"
   ]
  },
  {
   "cell_type": "code",
   "execution_count": null,
   "metadata": {
    "id": "yDvnGaWjw11Q"
   },
   "outputs": [],
   "source": [
    "test_df[\"sequence\"] = test_df[\"sequence\"].str.replace(r\"[UZOB]\", 'X', regex=True)"
   ]
  },
  {
   "cell_type": "code",
   "execution_count": null,
   "metadata": {
    "id": "do30kiwhxCTH"
   },
   "outputs": [],
   "source": [
    "encoded_data_test = tokenizer.batch_encode_plus(\n",
    "    test_df[\"sequence\"].values,\n",
    "    truncation=True,\n",
    "    add_special_tokens=True,\n",
    "    max_length=512,\n",
    "    padding='max_length',\n",
    "    return_attention_mask=True,\n",
    "    return_tensors='pt',\n",
    ")"
   ]
  },
  {
   "cell_type": "code",
   "execution_count": null,
   "metadata": {
    "id": "anH2OilzxNpH"
   },
   "outputs": [],
   "source": [
    "input_ids_test = encoded_data_test[\"input_ids\"]\n",
    "attention_masks_test = encoded_data_test[\"attention_mask\"]\n",
    "#labels_test = torch.tensor(test_df[\"label\"].values)"
   ]
  },
  {
   "cell_type": "code",
   "execution_count": null,
   "metadata": {
    "id": "K1PpKpmFxbaH"
   },
   "outputs": [],
   "source": [
    "test_dataset = TensorDataset(input_ids_test, attention_masks_test)"
   ]
  },
  {
   "cell_type": "code",
   "execution_count": null,
   "metadata": {
    "id": "ARM0L8J7yojY"
   },
   "outputs": [],
   "source": [
    "test_dataloader = DataLoader(\n",
    "    test_dataset,\n",
    "    sampler=SequentialSampler(test_dataset),\n",
    "    batch_size=2,)"
   ]
  },
  {
   "cell_type": "code",
   "execution_count": null,
   "metadata": {
    "id": "Lca1Wfn73Fdk",
    "outputId": "6eb7be65-3394-43ec-8422-ed19b8607d92"
   },
   "outputs": [],
   "source": [
    "device"
   ]
  },
  {
   "cell_type": "code",
   "execution_count": null,
   "metadata": {
    "id": "RpNqANg53Fdk",
    "outputId": "1e284c3b-d3c7-40c3-807a-13bec86195d1"
   },
   "outputs": [],
   "source": [
    "model.to(device)"
   ]
  },
  {
   "cell_type": "code",
   "execution_count": null,
   "metadata": {
    "id": "b406R4Bx3Fdl",
    "outputId": "267e27e3-b95c-4d76-cc0c-8f0b8923a2ff"
   },
   "outputs": [],
   "source": [
    "batch "
   ]
  },
  {
   "cell_type": "code",
   "execution_count": null,
   "metadata": {
    "id": "TQ8AvsFv3Fdl"
   },
   "outputs": [],
   "source": [
    "CUDA_LAUNCH_BLOCKING=1"
   ]
  },
  {
   "cell_type": "code",
   "execution_count": null,
   "metadata": {
    "id": "b40yI2Ld3Fdm",
    "outputId": "7347b859-e2e0-4219-d1d8-aab078552110"
   },
   "outputs": [],
   "source": [
    "emb_tst_list = []\n",
    "#class_list = []\n",
    "model.eval()\n",
    "for batched in test_dataloader:\n",
    "    \n",
    "    batched = tuple(k.to(device) for k in batched)\n",
    "    \n",
    "    #classes = batch[-1]\n",
    "    inputs = {'input_ids':      batched[0],\n",
    "            'attention_mask': batched[1],\n",
    "            }\n",
    "  # Extract per-residue embeddings (on GPU)\n",
    "    with torch.no_grad():\n",
    "        outputs = model(**inputs)\n",
    "\n",
    "    embeddings = outputs.last_hidden_state\n",
    "    embeddings = embeddings.detach().cpu().numpy()\n",
    "    #classes = classes.detach().cpu().numpy()\n",
    "  # Generate per-sequence embeddings via averaging\n",
    "    seq_tst_emb = np.mean(embeddings, axis=1)\n",
    "    emb_tst_list.append(seq_tst_emb)\n",
    "    #class_list.append(classes)"
   ]
  },
  {
   "cell_type": "code",
   "execution_count": null,
   "metadata": {
    "id": "_Avx6zR6pxs6"
   },
   "outputs": [],
   "source": [
    "def cross_entroy_func(preds, labels):\n",
    "    preds_flat = np.argmax(preds, axis=-1).flatten()\n",
    "    labels_flat = labels.flatten()\n",
    "    return log_loss(labels_flat, preds_flat)"
   ]
  },
  {
   "cell_type": "markdown",
   "metadata": {
    "id": "X1cYIe03wsoQ"
   },
   "source": [
    "#### evaluation"
   ]
  },
  {
   "cell_type": "code",
   "execution_count": null,
   "metadata": {
    "id": "U9hAGtHCqNpZ"
   },
   "outputs": [],
   "source": [
    "def test(model, test_loader, device):\n",
    "    model.eval()\n",
    "    \n",
    "    predictions = []\n",
    "    sigmoid = nn.Sigmoid()\n",
    "    with torch.no_grad():\n",
    "        for batch in test_loader:\n",
    "            batch = tuple(b.to(device) for b in batch)\n",
    "        \n",
    "            inputs = {'input_ids':      batch[0],\n",
    "                       'attention_mask': batch[1],\n",
    "                      }\n",
    "            b_input_ids = inputs['input_ids']\n",
    "            b_input_mask = inputs['attention_mask']\n",
    "\n",
    "            outputs = model(b_input_ids,attention_mask=b_input_mask)\n",
    "            #outputs = sigmoid(self.model(inputs, sequence_len))\n",
    "            _, preds = torch.max(outputs, dim=1)\n",
    "            #logits = outputs.logits\n",
    "       \n",
    "            # Move logits and labels to CPU\n",
    "            preds = preds.detach().cpu().numpy()\n",
    "            #label_ids = inputs['labels'].cpu().numpy()\n",
    "            predictions.append(preds)\n",
    "        \n",
    "            \n",
    "    predictions = np.concatenate(predictions, axis=0)\n",
    "    return predictions"
   ]
  },
  {
   "cell_type": "code",
   "execution_count": null,
   "metadata": {
    "id": "w4ZullVB2AES"
   },
   "outputs": [],
   "source": [
    "#test(model,test_dataloader,\"cuda\")"
   ]
  },
  {
   "cell_type": "markdown",
   "metadata": {
    "id": "HQn5KumbEoeV"
   },
   "source": [
    "#### load model"
   ]
  },
  {
   "cell_type": "code",
   "execution_count": null,
   "metadata": {
    "id": "zt9VD3ZkEqhb"
   },
   "outputs": [],
   "source": [
    "#model = ProteinClassifier(2)"
   ]
  },
  {
   "cell_type": "code",
   "execution_count": null,
   "metadata": {
    "id": "QcCLmYZALTMK"
   },
   "outputs": [],
   "source": [
    "os.getcwd()"
   ]
  },
  {
   "cell_type": "code",
   "execution_count": null,
   "metadata": {
    "id": "QZlF0UM8L8nS"
   },
   "outputs": [],
   "source": [
    "#model_inf = model = ProteinClassifier(2)  # we do not specify pretrained=True, i.e. do not load default weights\n",
    "#model_inf.load_state_dict(torch.load('/content/drive/MyDrive/Iovision_workspace/Logs/1model_train2.pth'))"
   ]
  },
  {
   "cell_type": "code",
   "execution_count": null,
   "metadata": {
    "id": "B1tQcN28EeSX"
   },
   "outputs": [],
   "source": [
    "#device = torch.device('cuda' if torch.cuda.is_available() else \"cpu\")\n",
    "#model.to(device)"
   ]
  },
  {
   "cell_type": "code",
   "execution_count": null,
   "metadata": {
    "id": "d7d9JAp-oADL"
   },
   "outputs": [],
   "source": [
    "#Test predictions and make the submission file \n",
    "test_perds = test(model_inf,test_dataloader,device)\n"
   ]
  },
  {
   "cell_type": "code",
   "execution_count": null,
   "metadata": {
    "id": "8vWpqi1f6NO9"
   },
   "outputs": [],
   "source": [
    "test_predictions=test_perds\n",
    "test_df[\"label\"]=test_predictions\n",
    "test_df[[\"ID\",\"label\"]].to_csv(\"./pred5.csv\",index=False)"
   ]
  }
 ],
 "metadata": {
  "accelerator": "GPU",
  "colab": {
   "collapsed_sections": [
    "u_My7Ig1k7l7",
    "xGu7j9Np3Fct",
    "_B6oc5Q83Fcu",
    "tdySIVTP3Fcx",
    "DEATBtcJ3Fcy",
    "9GRYM2nq3Fc0",
    "K1oyqgHh3Fc3",
    "Pldpw89p3Fc5"
   ],
   "provenance": []
  },
  "gpuClass": "standard",
  "kernelspec": {
   "display_name": "Python 3 (ipykernel)",
   "language": "python",
   "name": "python3"
  },
  "language_info": {
   "codemirror_mode": {
    "name": "ipython",
    "version": 3
   },
   "file_extension": ".py",
   "mimetype": "text/x-python",
   "name": "python",
   "nbconvert_exporter": "python",
   "pygments_lexer": "ipython3",
   "version": "3.10.9"
  },
  "vscode": {
   "interpreter": {
    "hash": "aee8b7b246df8f9039afb4144a1f6fd8d2ca17a180786b69acc140d282b71a49"
   }
  },
  "widgets": {
   "application/vnd.jupyter.widget-state+json": {
    "01ce32c36b77480da6e8117edc8d7383": {
     "model_module": "@jupyter-widgets/controls",
     "model_module_version": "1.5.0",
     "model_name": "FloatProgressModel",
     "state": {
      "_dom_classes": [],
      "_model_module": "@jupyter-widgets/controls",
      "_model_module_version": "1.5.0",
      "_model_name": "FloatProgressModel",
      "_view_count": null,
      "_view_module": "@jupyter-widgets/controls",
      "_view_module_version": "1.5.0",
      "_view_name": "ProgressView",
      "bar_style": "success",
      "description": "",
      "description_tooltip": null,
      "layout": "IPY_MODEL_57341c07c6294941bcf7cf3f72a889ec",
      "max": 81,
      "min": 0,
      "orientation": "horizontal",
      "style": "IPY_MODEL_1a374382692e4965917cc95e4c9a14d4",
      "value": 81
     }
    },
    "0f5a03ff16f14dacb515c1b16d3be46c": {
     "model_module": "@jupyter-widgets/base",
     "model_module_version": "1.2.0",
     "model_name": "LayoutModel",
     "state": {
      "_model_module": "@jupyter-widgets/base",
      "_model_module_version": "1.2.0",
      "_model_name": "LayoutModel",
      "_view_count": null,
      "_view_module": "@jupyter-widgets/base",
      "_view_module_version": "1.2.0",
      "_view_name": "LayoutView",
      "align_content": null,
      "align_items": null,
      "align_self": null,
      "border": null,
      "bottom": null,
      "display": null,
      "flex": null,
      "flex_flow": null,
      "grid_area": null,
      "grid_auto_columns": null,
      "grid_auto_flow": null,
      "grid_auto_rows": null,
      "grid_column": null,
      "grid_gap": null,
      "grid_row": null,
      "grid_template_areas": null,
      "grid_template_columns": null,
      "grid_template_rows": null,
      "height": null,
      "justify_content": null,
      "justify_items": null,
      "left": null,
      "margin": null,
      "max_height": null,
      "max_width": null,
      "min_height": null,
      "min_width": null,
      "object_fit": null,
      "object_position": null,
      "order": null,
      "overflow": null,
      "overflow_x": null,
      "overflow_y": null,
      "padding": null,
      "right": null,
      "top": null,
      "visibility": null,
      "width": null
     }
    },
    "13f9b12698354951ae709983e008006d": {
     "model_module": "@jupyter-widgets/controls",
     "model_module_version": "1.5.0",
     "model_name": "HBoxModel",
     "state": {
      "_dom_classes": [],
      "_model_module": "@jupyter-widgets/controls",
      "_model_module_version": "1.5.0",
      "_model_name": "HBoxModel",
      "_view_count": null,
      "_view_module": "@jupyter-widgets/controls",
      "_view_module_version": "1.5.0",
      "_view_name": "HBoxView",
      "box_style": "",
      "children": [
       "IPY_MODEL_eb698e79539f47c7ba9f3b3e6cef6f8b",
       "IPY_MODEL_1472b6ff3df04b4ba58035b965935fe4",
       "IPY_MODEL_c73a1897220544c382aaa2644366f29e"
      ],
      "layout": "IPY_MODEL_74521e20ee7a4c0781bc575224973c65"
     }
    },
    "1472b6ff3df04b4ba58035b965935fe4": {
     "model_module": "@jupyter-widgets/controls",
     "model_module_version": "1.5.0",
     "model_name": "FloatProgressModel",
     "state": {
      "_dom_classes": [],
      "_model_module": "@jupyter-widgets/controls",
      "_model_module_version": "1.5.0",
      "_model_name": "FloatProgressModel",
      "_view_count": null,
      "_view_module": "@jupyter-widgets/controls",
      "_view_module_version": "1.5.0",
      "_view_name": "ProgressView",
      "bar_style": "success",
      "description": "",
      "description_tooltip": null,
      "layout": "IPY_MODEL_38d3f9a0717644e4bf73af60b0fc83e5",
      "max": 361,
      "min": 0,
      "orientation": "horizontal",
      "style": "IPY_MODEL_9c4a9a3931594d7ca80139681d6f56a3",
      "value": 361
     }
    },
    "1a374382692e4965917cc95e4c9a14d4": {
     "model_module": "@jupyter-widgets/controls",
     "model_module_version": "1.5.0",
     "model_name": "ProgressStyleModel",
     "state": {
      "_model_module": "@jupyter-widgets/controls",
      "_model_module_version": "1.5.0",
      "_model_name": "ProgressStyleModel",
      "_view_count": null,
      "_view_module": "@jupyter-widgets/base",
      "_view_module_version": "1.2.0",
      "_view_name": "StyleView",
      "bar_color": null,
      "description_width": ""
     }
    },
    "1c0cbbea0ede4f00908d46f69d519935": {
     "model_module": "@jupyter-widgets/base",
     "model_module_version": "1.2.0",
     "model_name": "LayoutModel",
     "state": {
      "_model_module": "@jupyter-widgets/base",
      "_model_module_version": "1.2.0",
      "_model_name": "LayoutModel",
      "_view_count": null,
      "_view_module": "@jupyter-widgets/base",
      "_view_module_version": "1.2.0",
      "_view_name": "LayoutView",
      "align_content": null,
      "align_items": null,
      "align_self": null,
      "border": null,
      "bottom": null,
      "display": null,
      "flex": null,
      "flex_flow": null,
      "grid_area": null,
      "grid_auto_columns": null,
      "grid_auto_flow": null,
      "grid_auto_rows": null,
      "grid_column": null,
      "grid_gap": null,
      "grid_row": null,
      "grid_template_areas": null,
      "grid_template_columns": null,
      "grid_template_rows": null,
      "height": null,
      "justify_content": null,
      "justify_items": null,
      "left": null,
      "margin": null,
      "max_height": null,
      "max_width": null,
      "min_height": null,
      "min_width": null,
      "object_fit": null,
      "object_position": null,
      "order": null,
      "overflow": null,
      "overflow_x": null,
      "overflow_y": null,
      "padding": null,
      "right": null,
      "top": null,
      "visibility": null,
      "width": null
     }
    },
    "25b01b3105244c3c8e2bb32c9d4f986f": {
     "model_module": "@jupyter-widgets/controls",
     "model_module_version": "1.5.0",
     "model_name": "ProgressStyleModel",
     "state": {
      "_model_module": "@jupyter-widgets/controls",
      "_model_module_version": "1.5.0",
      "_model_name": "ProgressStyleModel",
      "_view_count": null,
      "_view_module": "@jupyter-widgets/base",
      "_view_module_version": "1.2.0",
      "_view_name": "StyleView",
      "bar_color": null,
      "description_width": ""
     }
    },
    "2a9c67a1325f4d95ad695aaf6e398edb": {
     "model_module": "@jupyter-widgets/controls",
     "model_module_version": "1.5.0",
     "model_name": "HBoxModel",
     "state": {
      "_dom_classes": [],
      "_model_module": "@jupyter-widgets/controls",
      "_model_module_version": "1.5.0",
      "_model_name": "HBoxModel",
      "_view_count": null,
      "_view_module": "@jupyter-widgets/controls",
      "_view_module_version": "1.5.0",
      "_view_name": "HBoxView",
      "box_style": "",
      "children": [
       "IPY_MODEL_2c37dbedaf6043fcaa4c264ef1926595",
       "IPY_MODEL_f68fe741ddb349d7b85bbcee521f25e9",
       "IPY_MODEL_8ba6a7edff1c4a148210fc3dc2c9eb0f"
      ],
      "layout": "IPY_MODEL_5631e55fc6374d5d8b6d74a49e7ef851"
     }
    },
    "2c37dbedaf6043fcaa4c264ef1926595": {
     "model_module": "@jupyter-widgets/controls",
     "model_module_version": "1.5.0",
     "model_name": "HTMLModel",
     "state": {
      "_dom_classes": [],
      "_model_module": "@jupyter-widgets/controls",
      "_model_module_version": "1.5.0",
      "_model_name": "HTMLModel",
      "_view_count": null,
      "_view_module": "@jupyter-widgets/controls",
      "_view_module_version": "1.5.0",
      "_view_name": "HTMLView",
      "description": "",
      "description_tooltip": null,
      "layout": "IPY_MODEL_ab7a03ea7ad14eea886dcb24fee6ff8e",
      "placeholder": "​",
      "style": "IPY_MODEL_7df01074a96842c8b0faa3ad09db0ce6",
      "value": "  0%"
     }
    },
    "34055ec9f421442a839d5c5905225aa0": {
     "model_module": "@jupyter-widgets/base",
     "model_module_version": "1.2.0",
     "model_name": "LayoutModel",
     "state": {
      "_model_module": "@jupyter-widgets/base",
      "_model_module_version": "1.2.0",
      "_model_name": "LayoutModel",
      "_view_count": null,
      "_view_module": "@jupyter-widgets/base",
      "_view_module_version": "1.2.0",
      "_view_name": "LayoutView",
      "align_content": null,
      "align_items": null,
      "align_self": null,
      "border": null,
      "bottom": null,
      "display": null,
      "flex": null,
      "flex_flow": null,
      "grid_area": null,
      "grid_auto_columns": null,
      "grid_auto_flow": null,
      "grid_auto_rows": null,
      "grid_column": null,
      "grid_gap": null,
      "grid_row": null,
      "grid_template_areas": null,
      "grid_template_columns": null,
      "grid_template_rows": null,
      "height": null,
      "justify_content": null,
      "justify_items": null,
      "left": null,
      "margin": null,
      "max_height": null,
      "max_width": null,
      "min_height": null,
      "min_width": null,
      "object_fit": null,
      "object_position": null,
      "order": null,
      "overflow": null,
      "overflow_x": null,
      "overflow_y": null,
      "padding": null,
      "right": null,
      "top": null,
      "visibility": null,
      "width": null
     }
    },
    "3756f7f7a4ef4e049ff04279f0d8990e": {
     "model_module": "@jupyter-widgets/base",
     "model_module_version": "1.2.0",
     "model_name": "LayoutModel",
     "state": {
      "_model_module": "@jupyter-widgets/base",
      "_model_module_version": "1.2.0",
      "_model_name": "LayoutModel",
      "_view_count": null,
      "_view_module": "@jupyter-widgets/base",
      "_view_module_version": "1.2.0",
      "_view_name": "LayoutView",
      "align_content": null,
      "align_items": null,
      "align_self": null,
      "border": null,
      "bottom": null,
      "display": null,
      "flex": null,
      "flex_flow": null,
      "grid_area": null,
      "grid_auto_columns": null,
      "grid_auto_flow": null,
      "grid_auto_rows": null,
      "grid_column": null,
      "grid_gap": null,
      "grid_row": null,
      "grid_template_areas": null,
      "grid_template_columns": null,
      "grid_template_rows": null,
      "height": null,
      "justify_content": null,
      "justify_items": null,
      "left": null,
      "margin": null,
      "max_height": null,
      "max_width": null,
      "min_height": null,
      "min_width": null,
      "object_fit": null,
      "object_position": null,
      "order": null,
      "overflow": null,
      "overflow_x": null,
      "overflow_y": null,
      "padding": null,
      "right": null,
      "top": null,
      "visibility": null,
      "width": null
     }
    },
    "38d3f9a0717644e4bf73af60b0fc83e5": {
     "model_module": "@jupyter-widgets/base",
     "model_module_version": "1.2.0",
     "model_name": "LayoutModel",
     "state": {
      "_model_module": "@jupyter-widgets/base",
      "_model_module_version": "1.2.0",
      "_model_name": "LayoutModel",
      "_view_count": null,
      "_view_module": "@jupyter-widgets/base",
      "_view_module_version": "1.2.0",
      "_view_name": "LayoutView",
      "align_content": null,
      "align_items": null,
      "align_self": null,
      "border": null,
      "bottom": null,
      "display": null,
      "flex": null,
      "flex_flow": null,
      "grid_area": null,
      "grid_auto_columns": null,
      "grid_auto_flow": null,
      "grid_auto_rows": null,
      "grid_column": null,
      "grid_gap": null,
      "grid_row": null,
      "grid_template_areas": null,
      "grid_template_columns": null,
      "grid_template_rows": null,
      "height": null,
      "justify_content": null,
      "justify_items": null,
      "left": null,
      "margin": null,
      "max_height": null,
      "max_width": null,
      "min_height": null,
      "min_width": null,
      "object_fit": null,
      "object_position": null,
      "order": null,
      "overflow": null,
      "overflow_x": null,
      "overflow_y": null,
      "padding": null,
      "right": null,
      "top": null,
      "visibility": null,
      "width": null
     }
    },
    "4e83346267cf4d7cbfcc44eb33fb5e34": {
     "model_module": "@jupyter-widgets/controls",
     "model_module_version": "1.5.0",
     "model_name": "DescriptionStyleModel",
     "state": {
      "_model_module": "@jupyter-widgets/controls",
      "_model_module_version": "1.5.0",
      "_model_name": "DescriptionStyleModel",
      "_view_count": null,
      "_view_module": "@jupyter-widgets/base",
      "_view_module_version": "1.2.0",
      "_view_name": "StyleView",
      "description_width": ""
     }
    },
    "5631e55fc6374d5d8b6d74a49e7ef851": {
     "model_module": "@jupyter-widgets/base",
     "model_module_version": "1.2.0",
     "model_name": "LayoutModel",
     "state": {
      "_model_module": "@jupyter-widgets/base",
      "_model_module_version": "1.2.0",
      "_model_name": "LayoutModel",
      "_view_count": null,
      "_view_module": "@jupyter-widgets/base",
      "_view_module_version": "1.2.0",
      "_view_name": "LayoutView",
      "align_content": null,
      "align_items": null,
      "align_self": null,
      "border": null,
      "bottom": null,
      "display": null,
      "flex": null,
      "flex_flow": null,
      "grid_area": null,
      "grid_auto_columns": null,
      "grid_auto_flow": null,
      "grid_auto_rows": null,
      "grid_column": null,
      "grid_gap": null,
      "grid_row": null,
      "grid_template_areas": null,
      "grid_template_columns": null,
      "grid_template_rows": null,
      "height": null,
      "justify_content": null,
      "justify_items": null,
      "left": null,
      "margin": null,
      "max_height": null,
      "max_width": null,
      "min_height": null,
      "min_width": null,
      "object_fit": null,
      "object_position": null,
      "order": null,
      "overflow": null,
      "overflow_x": null,
      "overflow_y": null,
      "padding": null,
      "right": null,
      "top": null,
      "visibility": null,
      "width": null
     }
    },
    "57341c07c6294941bcf7cf3f72a889ec": {
     "model_module": "@jupyter-widgets/base",
     "model_module_version": "1.2.0",
     "model_name": "LayoutModel",
     "state": {
      "_model_module": "@jupyter-widgets/base",
      "_model_module_version": "1.2.0",
      "_model_name": "LayoutModel",
      "_view_count": null,
      "_view_module": "@jupyter-widgets/base",
      "_view_module_version": "1.2.0",
      "_view_name": "LayoutView",
      "align_content": null,
      "align_items": null,
      "align_self": null,
      "border": null,
      "bottom": null,
      "display": null,
      "flex": null,
      "flex_flow": null,
      "grid_area": null,
      "grid_auto_columns": null,
      "grid_auto_flow": null,
      "grid_auto_rows": null,
      "grid_column": null,
      "grid_gap": null,
      "grid_row": null,
      "grid_template_areas": null,
      "grid_template_columns": null,
      "grid_template_rows": null,
      "height": null,
      "justify_content": null,
      "justify_items": null,
      "left": null,
      "margin": null,
      "max_height": null,
      "max_width": null,
      "min_height": null,
      "min_width": null,
      "object_fit": null,
      "object_position": null,
      "order": null,
      "overflow": null,
      "overflow_x": null,
      "overflow_y": null,
      "padding": null,
      "right": null,
      "top": null,
      "visibility": null,
      "width": null
     }
    },
    "57dfa5db309f4aafa89dfa30148c5b10": {
     "model_module": "@jupyter-widgets/controls",
     "model_module_version": "1.5.0",
     "model_name": "HTMLModel",
     "state": {
      "_dom_classes": [],
      "_model_module": "@jupyter-widgets/controls",
      "_model_module_version": "1.5.0",
      "_model_name": "HTMLModel",
      "_view_count": null,
      "_view_module": "@jupyter-widgets/controls",
      "_view_module_version": "1.5.0",
      "_view_name": "HTMLView",
      "description": "",
      "description_tooltip": null,
      "layout": "IPY_MODEL_6d99b5e6b9584cdbb0070fbed6f4a2e5",
      "placeholder": "​",
      "style": "IPY_MODEL_de40109213fd45d59aad43445ee73ce4",
      "value": " 112/112 [00:00&lt;00:00, 4.08kB/s]"
     }
    },
    "5be91f6cebb64c0bbdb22ce8375d76ce": {
     "model_module": "@jupyter-widgets/base",
     "model_module_version": "1.2.0",
     "model_name": "LayoutModel",
     "state": {
      "_model_module": "@jupyter-widgets/base",
      "_model_module_version": "1.2.0",
      "_model_name": "LayoutModel",
      "_view_count": null,
      "_view_module": "@jupyter-widgets/base",
      "_view_module_version": "1.2.0",
      "_view_name": "LayoutView",
      "align_content": null,
      "align_items": null,
      "align_self": null,
      "border": null,
      "bottom": null,
      "display": null,
      "flex": null,
      "flex_flow": null,
      "grid_area": null,
      "grid_auto_columns": null,
      "grid_auto_flow": null,
      "grid_auto_rows": null,
      "grid_column": null,
      "grid_gap": null,
      "grid_row": null,
      "grid_template_areas": null,
      "grid_template_columns": null,
      "grid_template_rows": null,
      "height": null,
      "justify_content": null,
      "justify_items": null,
      "left": null,
      "margin": null,
      "max_height": null,
      "max_width": null,
      "min_height": null,
      "min_width": null,
      "object_fit": null,
      "object_position": null,
      "order": null,
      "overflow": null,
      "overflow_x": null,
      "overflow_y": null,
      "padding": null,
      "right": null,
      "top": null,
      "visibility": null,
      "width": null
     }
    },
    "5d86169d84174b0c9ed60509839a8d0a": {
     "model_module": "@jupyter-widgets/controls",
     "model_module_version": "1.5.0",
     "model_name": "DescriptionStyleModel",
     "state": {
      "_model_module": "@jupyter-widgets/controls",
      "_model_module_version": "1.5.0",
      "_model_name": "DescriptionStyleModel",
      "_view_count": null,
      "_view_module": "@jupyter-widgets/base",
      "_view_module_version": "1.2.0",
      "_view_name": "StyleView",
      "description_width": ""
     }
    },
    "6059cb1c716640d2ac003a7d241b2578": {
     "model_module": "@jupyter-widgets/base",
     "model_module_version": "1.2.0",
     "model_name": "LayoutModel",
     "state": {
      "_model_module": "@jupyter-widgets/base",
      "_model_module_version": "1.2.0",
      "_model_name": "LayoutModel",
      "_view_count": null,
      "_view_module": "@jupyter-widgets/base",
      "_view_module_version": "1.2.0",
      "_view_name": "LayoutView",
      "align_content": null,
      "align_items": null,
      "align_self": null,
      "border": null,
      "bottom": null,
      "display": null,
      "flex": null,
      "flex_flow": null,
      "grid_area": null,
      "grid_auto_columns": null,
      "grid_auto_flow": null,
      "grid_auto_rows": null,
      "grid_column": null,
      "grid_gap": null,
      "grid_row": null,
      "grid_template_areas": null,
      "grid_template_columns": null,
      "grid_template_rows": null,
      "height": null,
      "justify_content": null,
      "justify_items": null,
      "left": null,
      "margin": null,
      "max_height": null,
      "max_width": null,
      "min_height": null,
      "min_width": null,
      "object_fit": null,
      "object_position": null,
      "order": null,
      "overflow": null,
      "overflow_x": null,
      "overflow_y": null,
      "padding": null,
      "right": null,
      "top": null,
      "visibility": null,
      "width": null
     }
    },
    "652ff8fa120e4d82b87aa9c8d6e1f3dc": {
     "model_module": "@jupyter-widgets/controls",
     "model_module_version": "1.5.0",
     "model_name": "HTMLModel",
     "state": {
      "_dom_classes": [],
      "_model_module": "@jupyter-widgets/controls",
      "_model_module_version": "1.5.0",
      "_model_name": "HTMLModel",
      "_view_count": null,
      "_view_module": "@jupyter-widgets/controls",
      "_view_module_version": "1.5.0",
      "_view_name": "HTMLView",
      "description": "",
      "description_tooltip": null,
      "layout": "IPY_MODEL_84764ea14ec04666a44ccbc7d9c7f02c",
      "placeholder": "​",
      "style": "IPY_MODEL_7dc3b11f471f484aabb135fa4bef72a2",
      "value": " 81.0/81.0 [00:00&lt;00:00, 2.25kB/s]"
     }
    },
    "67a25910a32b4ec5ac114b28fc8db781": {
     "model_module": "@jupyter-widgets/controls",
     "model_module_version": "1.5.0",
     "model_name": "HTMLModel",
     "state": {
      "_dom_classes": [],
      "_model_module": "@jupyter-widgets/controls",
      "_model_module_version": "1.5.0",
      "_model_name": "HTMLModel",
      "_view_count": null,
      "_view_module": "@jupyter-widgets/controls",
      "_view_module_version": "1.5.0",
      "_view_name": "HTMLView",
      "description": "",
      "description_tooltip": null,
      "layout": "IPY_MODEL_d888c5ffebd74128a4f82c873688e355",
      "placeholder": "​",
      "style": "IPY_MODEL_e19fa87675814f5ba0a6e06ede1242f4",
      "value": "Downloading (…)solve/main/vocab.txt: 100%"
     }
    },
    "6d1e80fa41ee47cf8ae21250750e569a": {
     "model_module": "@jupyter-widgets/controls",
     "model_module_version": "1.5.0",
     "model_name": "FloatProgressModel",
     "state": {
      "_dom_classes": [],
      "_model_module": "@jupyter-widgets/controls",
      "_model_module_version": "1.5.0",
      "_model_name": "FloatProgressModel",
      "_view_count": null,
      "_view_module": "@jupyter-widgets/controls",
      "_view_module_version": "1.5.0",
      "_view_name": "ProgressView",
      "bar_style": "success",
      "description": "",
      "description_tooltip": null,
      "layout": "IPY_MODEL_0f5a03ff16f14dacb515c1b16d3be46c",
      "max": 86,
      "min": 0,
      "orientation": "horizontal",
      "style": "IPY_MODEL_d93a39051f09460f905cb7a05fa1e13c",
      "value": 86
     }
    },
    "6d99b5e6b9584cdbb0070fbed6f4a2e5": {
     "model_module": "@jupyter-widgets/base",
     "model_module_version": "1.2.0",
     "model_name": "LayoutModel",
     "state": {
      "_model_module": "@jupyter-widgets/base",
      "_model_module_version": "1.2.0",
      "_model_name": "LayoutModel",
      "_view_count": null,
      "_view_module": "@jupyter-widgets/base",
      "_view_module_version": "1.2.0",
      "_view_name": "LayoutView",
      "align_content": null,
      "align_items": null,
      "align_self": null,
      "border": null,
      "bottom": null,
      "display": null,
      "flex": null,
      "flex_flow": null,
      "grid_area": null,
      "grid_auto_columns": null,
      "grid_auto_flow": null,
      "grid_auto_rows": null,
      "grid_column": null,
      "grid_gap": null,
      "grid_row": null,
      "grid_template_areas": null,
      "grid_template_columns": null,
      "grid_template_rows": null,
      "height": null,
      "justify_content": null,
      "justify_items": null,
      "left": null,
      "margin": null,
      "max_height": null,
      "max_width": null,
      "min_height": null,
      "min_width": null,
      "object_fit": null,
      "object_position": null,
      "order": null,
      "overflow": null,
      "overflow_x": null,
      "overflow_y": null,
      "padding": null,
      "right": null,
      "top": null,
      "visibility": null,
      "width": null
     }
    },
    "6fff8d469ad1431692c48816afce9e17": {
     "model_module": "@jupyter-widgets/base",
     "model_module_version": "1.2.0",
     "model_name": "LayoutModel",
     "state": {
      "_model_module": "@jupyter-widgets/base",
      "_model_module_version": "1.2.0",
      "_model_name": "LayoutModel",
      "_view_count": null,
      "_view_module": "@jupyter-widgets/base",
      "_view_module_version": "1.2.0",
      "_view_name": "LayoutView",
      "align_content": null,
      "align_items": null,
      "align_self": null,
      "border": null,
      "bottom": null,
      "display": null,
      "flex": null,
      "flex_flow": null,
      "grid_area": null,
      "grid_auto_columns": null,
      "grid_auto_flow": null,
      "grid_auto_rows": null,
      "grid_column": null,
      "grid_gap": null,
      "grid_row": null,
      "grid_template_areas": null,
      "grid_template_columns": null,
      "grid_template_rows": null,
      "height": null,
      "justify_content": null,
      "justify_items": null,
      "left": null,
      "margin": null,
      "max_height": null,
      "max_width": null,
      "min_height": null,
      "min_width": null,
      "object_fit": null,
      "object_position": null,
      "order": null,
      "overflow": null,
      "overflow_x": null,
      "overflow_y": null,
      "padding": null,
      "right": null,
      "top": null,
      "visibility": null,
      "width": null
     }
    },
    "70e844de5e0541a590ebd8b9b246903a": {
     "model_module": "@jupyter-widgets/controls",
     "model_module_version": "1.5.0",
     "model_name": "DescriptionStyleModel",
     "state": {
      "_model_module": "@jupyter-widgets/controls",
      "_model_module_version": "1.5.0",
      "_model_name": "DescriptionStyleModel",
      "_view_count": null,
      "_view_module": "@jupyter-widgets/base",
      "_view_module_version": "1.2.0",
      "_view_name": "StyleView",
      "description_width": ""
     }
    },
    "74521e20ee7a4c0781bc575224973c65": {
     "model_module": "@jupyter-widgets/base",
     "model_module_version": "1.2.0",
     "model_name": "LayoutModel",
     "state": {
      "_model_module": "@jupyter-widgets/base",
      "_model_module_version": "1.2.0",
      "_model_name": "LayoutModel",
      "_view_count": null,
      "_view_module": "@jupyter-widgets/base",
      "_view_module_version": "1.2.0",
      "_view_name": "LayoutView",
      "align_content": null,
      "align_items": null,
      "align_self": null,
      "border": null,
      "bottom": null,
      "display": null,
      "flex": null,
      "flex_flow": null,
      "grid_area": null,
      "grid_auto_columns": null,
      "grid_auto_flow": null,
      "grid_auto_rows": null,
      "grid_column": null,
      "grid_gap": null,
      "grid_row": null,
      "grid_template_areas": null,
      "grid_template_columns": null,
      "grid_template_rows": null,
      "height": null,
      "justify_content": null,
      "justify_items": null,
      "left": null,
      "margin": null,
      "max_height": null,
      "max_width": null,
      "min_height": null,
      "min_width": null,
      "object_fit": null,
      "object_position": null,
      "order": null,
      "overflow": null,
      "overflow_x": null,
      "overflow_y": null,
      "padding": null,
      "right": null,
      "top": null,
      "visibility": null,
      "width": null
     }
    },
    "7967bcff11fc4b56bc31267233bf328c": {
     "model_module": "@jupyter-widgets/controls",
     "model_module_version": "1.5.0",
     "model_name": "DescriptionStyleModel",
     "state": {
      "_model_module": "@jupyter-widgets/controls",
      "_model_module_version": "1.5.0",
      "_model_name": "DescriptionStyleModel",
      "_view_count": null,
      "_view_module": "@jupyter-widgets/base",
      "_view_module_version": "1.2.0",
      "_view_name": "StyleView",
      "description_width": ""
     }
    },
    "7bf0973a6b644ff3b365e6532bb3de67": {
     "model_module": "@jupyter-widgets/base",
     "model_module_version": "1.2.0",
     "model_name": "LayoutModel",
     "state": {
      "_model_module": "@jupyter-widgets/base",
      "_model_module_version": "1.2.0",
      "_model_name": "LayoutModel",
      "_view_count": null,
      "_view_module": "@jupyter-widgets/base",
      "_view_module_version": "1.2.0",
      "_view_name": "LayoutView",
      "align_content": null,
      "align_items": null,
      "align_self": null,
      "border": null,
      "bottom": null,
      "display": null,
      "flex": null,
      "flex_flow": null,
      "grid_area": null,
      "grid_auto_columns": null,
      "grid_auto_flow": null,
      "grid_auto_rows": null,
      "grid_column": null,
      "grid_gap": null,
      "grid_row": null,
      "grid_template_areas": null,
      "grid_template_columns": null,
      "grid_template_rows": null,
      "height": null,
      "justify_content": null,
      "justify_items": null,
      "left": null,
      "margin": null,
      "max_height": null,
      "max_width": null,
      "min_height": null,
      "min_width": null,
      "object_fit": null,
      "object_position": null,
      "order": null,
      "overflow": null,
      "overflow_x": null,
      "overflow_y": null,
      "padding": null,
      "right": null,
      "top": null,
      "visibility": null,
      "width": null
     }
    },
    "7dc3b11f471f484aabb135fa4bef72a2": {
     "model_module": "@jupyter-widgets/controls",
     "model_module_version": "1.5.0",
     "model_name": "DescriptionStyleModel",
     "state": {
      "_model_module": "@jupyter-widgets/controls",
      "_model_module_version": "1.5.0",
      "_model_name": "DescriptionStyleModel",
      "_view_count": null,
      "_view_module": "@jupyter-widgets/base",
      "_view_module_version": "1.2.0",
      "_view_name": "StyleView",
      "description_width": ""
     }
    },
    "7df01074a96842c8b0faa3ad09db0ce6": {
     "model_module": "@jupyter-widgets/controls",
     "model_module_version": "1.5.0",
     "model_name": "DescriptionStyleModel",
     "state": {
      "_model_module": "@jupyter-widgets/controls",
      "_model_module_version": "1.5.0",
      "_model_name": "DescriptionStyleModel",
      "_view_count": null,
      "_view_module": "@jupyter-widgets/base",
      "_view_module_version": "1.2.0",
      "_view_name": "StyleView",
      "description_width": ""
     }
    },
    "84764ea14ec04666a44ccbc7d9c7f02c": {
     "model_module": "@jupyter-widgets/base",
     "model_module_version": "1.2.0",
     "model_name": "LayoutModel",
     "state": {
      "_model_module": "@jupyter-widgets/base",
      "_model_module_version": "1.2.0",
      "_model_name": "LayoutModel",
      "_view_count": null,
      "_view_module": "@jupyter-widgets/base",
      "_view_module_version": "1.2.0",
      "_view_name": "LayoutView",
      "align_content": null,
      "align_items": null,
      "align_self": null,
      "border": null,
      "bottom": null,
      "display": null,
      "flex": null,
      "flex_flow": null,
      "grid_area": null,
      "grid_auto_columns": null,
      "grid_auto_flow": null,
      "grid_auto_rows": null,
      "grid_column": null,
      "grid_gap": null,
      "grid_row": null,
      "grid_template_areas": null,
      "grid_template_columns": null,
      "grid_template_rows": null,
      "height": null,
      "justify_content": null,
      "justify_items": null,
      "left": null,
      "margin": null,
      "max_height": null,
      "max_width": null,
      "min_height": null,
      "min_width": null,
      "object_fit": null,
      "object_position": null,
      "order": null,
      "overflow": null,
      "overflow_x": null,
      "overflow_y": null,
      "padding": null,
      "right": null,
      "top": null,
      "visibility": null,
      "width": null
     }
    },
    "89e600af073446958714fb67f6b1eabc": {
     "model_module": "@jupyter-widgets/controls",
     "model_module_version": "1.5.0",
     "model_name": "HBoxModel",
     "state": {
      "_dom_classes": [],
      "_model_module": "@jupyter-widgets/controls",
      "_model_module_version": "1.5.0",
      "_model_name": "HBoxModel",
      "_view_count": null,
      "_view_module": "@jupyter-widgets/controls",
      "_view_module_version": "1.5.0",
      "_view_name": "HBoxView",
      "box_style": "",
      "children": [
       "IPY_MODEL_9e380e7c4b5847b59148a9a469ca4d9e",
       "IPY_MODEL_ded166b645d94c76aa487faad94ae5f2",
       "IPY_MODEL_57dfa5db309f4aafa89dfa30148c5b10"
      ],
      "layout": "IPY_MODEL_6fff8d469ad1431692c48816afce9e17"
     }
    },
    "8a5f2b674bf345d590982ee89f1af765": {
     "model_module": "@jupyter-widgets/controls",
     "model_module_version": "1.5.0",
     "model_name": "DescriptionStyleModel",
     "state": {
      "_model_module": "@jupyter-widgets/controls",
      "_model_module_version": "1.5.0",
      "_model_name": "DescriptionStyleModel",
      "_view_count": null,
      "_view_module": "@jupyter-widgets/base",
      "_view_module_version": "1.2.0",
      "_view_name": "StyleView",
      "description_width": ""
     }
    },
    "8ba6a7edff1c4a148210fc3dc2c9eb0f": {
     "model_module": "@jupyter-widgets/controls",
     "model_module_version": "1.5.0",
     "model_name": "HTMLModel",
     "state": {
      "_dom_classes": [],
      "_model_module": "@jupyter-widgets/controls",
      "_model_module_version": "1.5.0",
      "_model_name": "HTMLModel",
      "_view_count": null,
      "_view_module": "@jupyter-widgets/controls",
      "_view_module_version": "1.5.0",
      "_view_name": "HTMLView",
      "description": "",
      "description_tooltip": null,
      "layout": "IPY_MODEL_5be91f6cebb64c0bbdb22ce8375d76ce",
      "placeholder": "​",
      "style": "IPY_MODEL_70e844de5e0541a590ebd8b9b246903a",
      "value": " 0/2754 [00:00&lt;?, ?it/s]"
     }
    },
    "8e1afe85b7bc4374b2364246ec74a9ff": {
     "model_module": "@jupyter-widgets/controls",
     "model_module_version": "1.5.0",
     "model_name": "HTMLModel",
     "state": {
      "_dom_classes": [],
      "_model_module": "@jupyter-widgets/controls",
      "_model_module_version": "1.5.0",
      "_model_name": "HTMLModel",
      "_view_count": null,
      "_view_module": "@jupyter-widgets/controls",
      "_view_module_version": "1.5.0",
      "_view_name": "HTMLView",
      "description": "",
      "description_tooltip": null,
      "layout": "IPY_MODEL_7bf0973a6b644ff3b365e6532bb3de67",
      "placeholder": "​",
      "style": "IPY_MODEL_5d86169d84174b0c9ed60509839a8d0a",
      "value": " 86.0/86.0 [00:00&lt;00:00, 2.29kB/s]"
     }
    },
    "924be869830f4771ac5c6782557c376b": {
     "model_module": "@jupyter-widgets/base",
     "model_module_version": "1.2.0",
     "model_name": "LayoutModel",
     "state": {
      "_model_module": "@jupyter-widgets/base",
      "_model_module_version": "1.2.0",
      "_model_name": "LayoutModel",
      "_view_count": null,
      "_view_module": "@jupyter-widgets/base",
      "_view_module_version": "1.2.0",
      "_view_name": "LayoutView",
      "align_content": null,
      "align_items": null,
      "align_self": null,
      "border": null,
      "bottom": null,
      "display": null,
      "flex": null,
      "flex_flow": null,
      "grid_area": null,
      "grid_auto_columns": null,
      "grid_auto_flow": null,
      "grid_auto_rows": null,
      "grid_column": null,
      "grid_gap": null,
      "grid_row": null,
      "grid_template_areas": null,
      "grid_template_columns": null,
      "grid_template_rows": null,
      "height": null,
      "justify_content": null,
      "justify_items": null,
      "left": null,
      "margin": null,
      "max_height": null,
      "max_width": null,
      "min_height": null,
      "min_width": null,
      "object_fit": null,
      "object_position": null,
      "order": null,
      "overflow": null,
      "overflow_x": null,
      "overflow_y": null,
      "padding": null,
      "right": null,
      "top": null,
      "visibility": null,
      "width": null
     }
    },
    "957888fcad2744f7b39fe01dd841a9a4": {
     "model_module": "@jupyter-widgets/controls",
     "model_module_version": "1.5.0",
     "model_name": "ProgressStyleModel",
     "state": {
      "_model_module": "@jupyter-widgets/controls",
      "_model_module_version": "1.5.0",
      "_model_name": "ProgressStyleModel",
      "_view_count": null,
      "_view_module": "@jupyter-widgets/base",
      "_view_module_version": "1.2.0",
      "_view_name": "StyleView",
      "bar_color": null,
      "description_width": ""
     }
    },
    "96ca740b8e994504bbc7beda1b00538a": {
     "model_module": "@jupyter-widgets/controls",
     "model_module_version": "1.5.0",
     "model_name": "DescriptionStyleModel",
     "state": {
      "_model_module": "@jupyter-widgets/controls",
      "_model_module_version": "1.5.0",
      "_model_name": "DescriptionStyleModel",
      "_view_count": null,
      "_view_module": "@jupyter-widgets/base",
      "_view_module_version": "1.2.0",
      "_view_name": "StyleView",
      "description_width": ""
     }
    },
    "9c4a9a3931594d7ca80139681d6f56a3": {
     "model_module": "@jupyter-widgets/controls",
     "model_module_version": "1.5.0",
     "model_name": "ProgressStyleModel",
     "state": {
      "_model_module": "@jupyter-widgets/controls",
      "_model_module_version": "1.5.0",
      "_model_name": "ProgressStyleModel",
      "_view_count": null,
      "_view_module": "@jupyter-widgets/base",
      "_view_module_version": "1.2.0",
      "_view_name": "StyleView",
      "bar_color": null,
      "description_width": ""
     }
    },
    "9d01fafc7de447a38cd6b797e746c8b3": {
     "model_module": "@jupyter-widgets/controls",
     "model_module_version": "1.5.0",
     "model_name": "HTMLModel",
     "state": {
      "_dom_classes": [],
      "_model_module": "@jupyter-widgets/controls",
      "_model_module_version": "1.5.0",
      "_model_name": "HTMLModel",
      "_view_count": null,
      "_view_module": "@jupyter-widgets/controls",
      "_view_module_version": "1.5.0",
      "_view_name": "HTMLView",
      "description": "",
      "description_tooltip": null,
      "layout": "IPY_MODEL_34055ec9f421442a839d5c5905225aa0",
      "placeholder": "​",
      "style": "IPY_MODEL_7967bcff11fc4b56bc31267233bf328c",
      "value": "Downloading (…)okenizer_config.json: 100%"
     }
    },
    "9e380e7c4b5847b59148a9a469ca4d9e": {
     "model_module": "@jupyter-widgets/controls",
     "model_module_version": "1.5.0",
     "model_name": "HTMLModel",
     "state": {
      "_dom_classes": [],
      "_model_module": "@jupyter-widgets/controls",
      "_model_module_version": "1.5.0",
      "_model_name": "HTMLModel",
      "_view_count": null,
      "_view_module": "@jupyter-widgets/controls",
      "_view_module_version": "1.5.0",
      "_view_name": "HTMLView",
      "description": "",
      "description_tooltip": null,
      "layout": "IPY_MODEL_ef7f1cc7537a46b2b81eff28049630c9",
      "placeholder": "​",
      "style": "IPY_MODEL_4e83346267cf4d7cbfcc44eb33fb5e34",
      "value": "Downloading (…)cial_tokens_map.json: 100%"
     }
    },
    "a6728e29550e4bec88ef7066fe61c00e": {
     "model_module": "@jupyter-widgets/base",
     "model_module_version": "1.2.0",
     "model_name": "LayoutModel",
     "state": {
      "_model_module": "@jupyter-widgets/base",
      "_model_module_version": "1.2.0",
      "_model_name": "LayoutModel",
      "_view_count": null,
      "_view_module": "@jupyter-widgets/base",
      "_view_module_version": "1.2.0",
      "_view_name": "LayoutView",
      "align_content": null,
      "align_items": null,
      "align_self": null,
      "border": null,
      "bottom": null,
      "display": null,
      "flex": null,
      "flex_flow": null,
      "grid_area": null,
      "grid_auto_columns": null,
      "grid_auto_flow": null,
      "grid_auto_rows": null,
      "grid_column": null,
      "grid_gap": null,
      "grid_row": null,
      "grid_template_areas": null,
      "grid_template_columns": null,
      "grid_template_rows": null,
      "height": null,
      "justify_content": null,
      "justify_items": null,
      "left": null,
      "margin": null,
      "max_height": null,
      "max_width": null,
      "min_height": null,
      "min_width": null,
      "object_fit": null,
      "object_position": null,
      "order": null,
      "overflow": null,
      "overflow_x": null,
      "overflow_y": null,
      "padding": null,
      "right": null,
      "top": null,
      "visibility": null,
      "width": null
     }
    },
    "aaec6cd9fb3449f0870f0ef908f7bc18": {
     "model_module": "@jupyter-widgets/controls",
     "model_module_version": "1.5.0",
     "model_name": "HBoxModel",
     "state": {
      "_dom_classes": [],
      "_model_module": "@jupyter-widgets/controls",
      "_model_module_version": "1.5.0",
      "_model_name": "HBoxModel",
      "_view_count": null,
      "_view_module": "@jupyter-widgets/controls",
      "_view_module_version": "1.5.0",
      "_view_name": "HBoxView",
      "box_style": "",
      "children": [
       "IPY_MODEL_ca0ce800a5484bdcb34bb0969620d442",
       "IPY_MODEL_bc3a9c24a0014766bdbcd335c7aeecea",
       "IPY_MODEL_c82fab11d9ab42b1b3d141504aa51696"
      ],
      "layout": "IPY_MODEL_b7ae0e2278c94e03b2fa0529ecda65ac"
     }
    },
    "ab7a03ea7ad14eea886dcb24fee6ff8e": {
     "model_module": "@jupyter-widgets/base",
     "model_module_version": "1.2.0",
     "model_name": "LayoutModel",
     "state": {
      "_model_module": "@jupyter-widgets/base",
      "_model_module_version": "1.2.0",
      "_model_name": "LayoutModel",
      "_view_count": null,
      "_view_module": "@jupyter-widgets/base",
      "_view_module_version": "1.2.0",
      "_view_name": "LayoutView",
      "align_content": null,
      "align_items": null,
      "align_self": null,
      "border": null,
      "bottom": null,
      "display": null,
      "flex": null,
      "flex_flow": null,
      "grid_area": null,
      "grid_auto_columns": null,
      "grid_auto_flow": null,
      "grid_auto_rows": null,
      "grid_column": null,
      "grid_gap": null,
      "grid_row": null,
      "grid_template_areas": null,
      "grid_template_columns": null,
      "grid_template_rows": null,
      "height": null,
      "justify_content": null,
      "justify_items": null,
      "left": null,
      "margin": null,
      "max_height": null,
      "max_width": null,
      "min_height": null,
      "min_width": null,
      "object_fit": null,
      "object_position": null,
      "order": null,
      "overflow": null,
      "overflow_x": null,
      "overflow_y": null,
      "padding": null,
      "right": null,
      "top": null,
      "visibility": null,
      "width": null
     }
    },
    "b12a815ca0824e209774f66d237c543c": {
     "model_module": "@jupyter-widgets/controls",
     "model_module_version": "1.5.0",
     "model_name": "DescriptionStyleModel",
     "state": {
      "_model_module": "@jupyter-widgets/controls",
      "_model_module_version": "1.5.0",
      "_model_name": "DescriptionStyleModel",
      "_view_count": null,
      "_view_module": "@jupyter-widgets/base",
      "_view_module_version": "1.2.0",
      "_view_name": "StyleView",
      "description_width": ""
     }
    },
    "b4b7474323454a968aebfe5a56d0918b": {
     "model_module": "@jupyter-widgets/controls",
     "model_module_version": "1.5.0",
     "model_name": "HBoxModel",
     "state": {
      "_dom_classes": [],
      "_model_module": "@jupyter-widgets/controls",
      "_model_module_version": "1.5.0",
      "_model_name": "HBoxModel",
      "_view_count": null,
      "_view_module": "@jupyter-widgets/controls",
      "_view_module_version": "1.5.0",
      "_view_name": "HBoxView",
      "box_style": "",
      "children": [
       "IPY_MODEL_67a25910a32b4ec5ac114b28fc8db781",
       "IPY_MODEL_01ce32c36b77480da6e8117edc8d7383",
       "IPY_MODEL_652ff8fa120e4d82b87aa9c8d6e1f3dc"
      ],
      "layout": "IPY_MODEL_6059cb1c716640d2ac003a7d241b2578"
     }
    },
    "b7ae0e2278c94e03b2fa0529ecda65ac": {
     "model_module": "@jupyter-widgets/base",
     "model_module_version": "1.2.0",
     "model_name": "LayoutModel",
     "state": {
      "_model_module": "@jupyter-widgets/base",
      "_model_module_version": "1.2.0",
      "_model_name": "LayoutModel",
      "_view_count": null,
      "_view_module": "@jupyter-widgets/base",
      "_view_module_version": "1.2.0",
      "_view_name": "LayoutView",
      "align_content": null,
      "align_items": null,
      "align_self": null,
      "border": null,
      "bottom": null,
      "display": null,
      "flex": null,
      "flex_flow": null,
      "grid_area": null,
      "grid_auto_columns": null,
      "grid_auto_flow": null,
      "grid_auto_rows": null,
      "grid_column": null,
      "grid_gap": null,
      "grid_row": null,
      "grid_template_areas": null,
      "grid_template_columns": null,
      "grid_template_rows": null,
      "height": null,
      "justify_content": null,
      "justify_items": null,
      "left": null,
      "margin": null,
      "max_height": null,
      "max_width": null,
      "min_height": null,
      "min_width": null,
      "object_fit": null,
      "object_position": null,
      "order": null,
      "overflow": null,
      "overflow_x": null,
      "overflow_y": null,
      "padding": null,
      "right": null,
      "top": null,
      "visibility": null,
      "width": null
     }
    },
    "b9386dd5109c43b2bdd19822868fbd3d": {
     "model_module": "@jupyter-widgets/base",
     "model_module_version": "1.2.0",
     "model_name": "LayoutModel",
     "state": {
      "_model_module": "@jupyter-widgets/base",
      "_model_module_version": "1.2.0",
      "_model_name": "LayoutModel",
      "_view_count": null,
      "_view_module": "@jupyter-widgets/base",
      "_view_module_version": "1.2.0",
      "_view_name": "LayoutView",
      "align_content": null,
      "align_items": null,
      "align_self": null,
      "border": null,
      "bottom": null,
      "display": null,
      "flex": null,
      "flex_flow": null,
      "grid_area": null,
      "grid_auto_columns": null,
      "grid_auto_flow": null,
      "grid_auto_rows": null,
      "grid_column": null,
      "grid_gap": null,
      "grid_row": null,
      "grid_template_areas": null,
      "grid_template_columns": null,
      "grid_template_rows": null,
      "height": null,
      "justify_content": null,
      "justify_items": null,
      "left": null,
      "margin": null,
      "max_height": null,
      "max_width": null,
      "min_height": null,
      "min_width": null,
      "object_fit": null,
      "object_position": null,
      "order": null,
      "overflow": null,
      "overflow_x": null,
      "overflow_y": null,
      "padding": null,
      "right": null,
      "top": null,
      "visibility": null,
      "width": null
     }
    },
    "bc3a9c24a0014766bdbcd335c7aeecea": {
     "model_module": "@jupyter-widgets/controls",
     "model_module_version": "1.5.0",
     "model_name": "FloatProgressModel",
     "state": {
      "_dom_classes": [],
      "_model_module": "@jupyter-widgets/controls",
      "_model_module_version": "1.5.0",
      "_model_name": "FloatProgressModel",
      "_view_count": null,
      "_view_module": "@jupyter-widgets/controls",
      "_view_module_version": "1.5.0",
      "_view_name": "ProgressView",
      "bar_style": "success",
      "description": "",
      "description_tooltip": null,
      "layout": "IPY_MODEL_a6728e29550e4bec88ef7066fe61c00e",
      "max": 1684058277,
      "min": 0,
      "orientation": "horizontal",
      "style": "IPY_MODEL_f5357360c72f435a8ef901ec8f995dfd",
      "value": 1684058277
     }
    },
    "c053a7a3290948ae83b6e58d1742e0e0": {
     "model_module": "@jupyter-widgets/base",
     "model_module_version": "1.2.0",
     "model_name": "LayoutModel",
     "state": {
      "_model_module": "@jupyter-widgets/base",
      "_model_module_version": "1.2.0",
      "_model_name": "LayoutModel",
      "_view_count": null,
      "_view_module": "@jupyter-widgets/base",
      "_view_module_version": "1.2.0",
      "_view_name": "LayoutView",
      "align_content": null,
      "align_items": null,
      "align_self": null,
      "border": null,
      "bottom": null,
      "display": null,
      "flex": null,
      "flex_flow": null,
      "grid_area": null,
      "grid_auto_columns": null,
      "grid_auto_flow": null,
      "grid_auto_rows": null,
      "grid_column": null,
      "grid_gap": null,
      "grid_row": null,
      "grid_template_areas": null,
      "grid_template_columns": null,
      "grid_template_rows": null,
      "height": null,
      "justify_content": null,
      "justify_items": null,
      "left": null,
      "margin": null,
      "max_height": null,
      "max_width": null,
      "min_height": null,
      "min_width": null,
      "object_fit": null,
      "object_position": null,
      "order": null,
      "overflow": null,
      "overflow_x": null,
      "overflow_y": null,
      "padding": null,
      "right": null,
      "top": null,
      "visibility": null,
      "width": null
     }
    },
    "c73a1897220544c382aaa2644366f29e": {
     "model_module": "@jupyter-widgets/controls",
     "model_module_version": "1.5.0",
     "model_name": "HTMLModel",
     "state": {
      "_dom_classes": [],
      "_model_module": "@jupyter-widgets/controls",
      "_model_module_version": "1.5.0",
      "_model_name": "HTMLModel",
      "_view_count": null,
      "_view_module": "@jupyter-widgets/controls",
      "_view_module_version": "1.5.0",
      "_view_name": "HTMLView",
      "description": "",
      "description_tooltip": null,
      "layout": "IPY_MODEL_c053a7a3290948ae83b6e58d1742e0e0",
      "placeholder": "​",
      "style": "IPY_MODEL_b12a815ca0824e209774f66d237c543c",
      "value": " 361/361 [00:00&lt;00:00, 13.1kB/s]"
     }
    },
    "c82fab11d9ab42b1b3d141504aa51696": {
     "model_module": "@jupyter-widgets/controls",
     "model_module_version": "1.5.0",
     "model_name": "HTMLModel",
     "state": {
      "_dom_classes": [],
      "_model_module": "@jupyter-widgets/controls",
      "_model_module_version": "1.5.0",
      "_model_name": "HTMLModel",
      "_view_count": null,
      "_view_module": "@jupyter-widgets/controls",
      "_view_module_version": "1.5.0",
      "_view_name": "HTMLView",
      "description": "",
      "description_tooltip": null,
      "layout": "IPY_MODEL_b9386dd5109c43b2bdd19822868fbd3d",
      "placeholder": "​",
      "style": "IPY_MODEL_96ca740b8e994504bbc7beda1b00538a",
      "value": " 1.68G/1.68G [01:16&lt;00:00, 22.1MB/s]"
     }
    },
    "ca0ce800a5484bdcb34bb0969620d442": {
     "model_module": "@jupyter-widgets/controls",
     "model_module_version": "1.5.0",
     "model_name": "HTMLModel",
     "state": {
      "_dom_classes": [],
      "_model_module": "@jupyter-widgets/controls",
      "_model_module_version": "1.5.0",
      "_model_name": "HTMLModel",
      "_view_count": null,
      "_view_module": "@jupyter-widgets/controls",
      "_view_module_version": "1.5.0",
      "_view_name": "HTMLView",
      "description": "",
      "description_tooltip": null,
      "layout": "IPY_MODEL_d0eba564a1c94040b30472cffe3d459b",
      "placeholder": "​",
      "style": "IPY_MODEL_8a5f2b674bf345d590982ee89f1af765",
      "value": "Downloading (…)&quot;pytorch_model.bin&quot;;: 100%"
     }
    },
    "d0eba564a1c94040b30472cffe3d459b": {
     "model_module": "@jupyter-widgets/base",
     "model_module_version": "1.2.0",
     "model_name": "LayoutModel",
     "state": {
      "_model_module": "@jupyter-widgets/base",
      "_model_module_version": "1.2.0",
      "_model_name": "LayoutModel",
      "_view_count": null,
      "_view_module": "@jupyter-widgets/base",
      "_view_module_version": "1.2.0",
      "_view_name": "LayoutView",
      "align_content": null,
      "align_items": null,
      "align_self": null,
      "border": null,
      "bottom": null,
      "display": null,
      "flex": null,
      "flex_flow": null,
      "grid_area": null,
      "grid_auto_columns": null,
      "grid_auto_flow": null,
      "grid_auto_rows": null,
      "grid_column": null,
      "grid_gap": null,
      "grid_row": null,
      "grid_template_areas": null,
      "grid_template_columns": null,
      "grid_template_rows": null,
      "height": null,
      "justify_content": null,
      "justify_items": null,
      "left": null,
      "margin": null,
      "max_height": null,
      "max_width": null,
      "min_height": null,
      "min_width": null,
      "object_fit": null,
      "object_position": null,
      "order": null,
      "overflow": null,
      "overflow_x": null,
      "overflow_y": null,
      "padding": null,
      "right": null,
      "top": null,
      "visibility": null,
      "width": null
     }
    },
    "d7c035a729b94eb98e109a72b7ebf737": {
     "model_module": "@jupyter-widgets/controls",
     "model_module_version": "1.5.0",
     "model_name": "DescriptionStyleModel",
     "state": {
      "_model_module": "@jupyter-widgets/controls",
      "_model_module_version": "1.5.0",
      "_model_name": "DescriptionStyleModel",
      "_view_count": null,
      "_view_module": "@jupyter-widgets/base",
      "_view_module_version": "1.2.0",
      "_view_name": "StyleView",
      "description_width": ""
     }
    },
    "d888c5ffebd74128a4f82c873688e355": {
     "model_module": "@jupyter-widgets/base",
     "model_module_version": "1.2.0",
     "model_name": "LayoutModel",
     "state": {
      "_model_module": "@jupyter-widgets/base",
      "_model_module_version": "1.2.0",
      "_model_name": "LayoutModel",
      "_view_count": null,
      "_view_module": "@jupyter-widgets/base",
      "_view_module_version": "1.2.0",
      "_view_name": "LayoutView",
      "align_content": null,
      "align_items": null,
      "align_self": null,
      "border": null,
      "bottom": null,
      "display": null,
      "flex": null,
      "flex_flow": null,
      "grid_area": null,
      "grid_auto_columns": null,
      "grid_auto_flow": null,
      "grid_auto_rows": null,
      "grid_column": null,
      "grid_gap": null,
      "grid_row": null,
      "grid_template_areas": null,
      "grid_template_columns": null,
      "grid_template_rows": null,
      "height": null,
      "justify_content": null,
      "justify_items": null,
      "left": null,
      "margin": null,
      "max_height": null,
      "max_width": null,
      "min_height": null,
      "min_width": null,
      "object_fit": null,
      "object_position": null,
      "order": null,
      "overflow": null,
      "overflow_x": null,
      "overflow_y": null,
      "padding": null,
      "right": null,
      "top": null,
      "visibility": null,
      "width": null
     }
    },
    "d93a39051f09460f905cb7a05fa1e13c": {
     "model_module": "@jupyter-widgets/controls",
     "model_module_version": "1.5.0",
     "model_name": "ProgressStyleModel",
     "state": {
      "_model_module": "@jupyter-widgets/controls",
      "_model_module_version": "1.5.0",
      "_model_name": "ProgressStyleModel",
      "_view_count": null,
      "_view_module": "@jupyter-widgets/base",
      "_view_module_version": "1.2.0",
      "_view_name": "StyleView",
      "bar_color": null,
      "description_width": ""
     }
    },
    "de40109213fd45d59aad43445ee73ce4": {
     "model_module": "@jupyter-widgets/controls",
     "model_module_version": "1.5.0",
     "model_name": "DescriptionStyleModel",
     "state": {
      "_model_module": "@jupyter-widgets/controls",
      "_model_module_version": "1.5.0",
      "_model_name": "DescriptionStyleModel",
      "_view_count": null,
      "_view_module": "@jupyter-widgets/base",
      "_view_module_version": "1.2.0",
      "_view_name": "StyleView",
      "description_width": ""
     }
    },
    "ded166b645d94c76aa487faad94ae5f2": {
     "model_module": "@jupyter-widgets/controls",
     "model_module_version": "1.5.0",
     "model_name": "FloatProgressModel",
     "state": {
      "_dom_classes": [],
      "_model_module": "@jupyter-widgets/controls",
      "_model_module_version": "1.5.0",
      "_model_name": "FloatProgressModel",
      "_view_count": null,
      "_view_module": "@jupyter-widgets/controls",
      "_view_module_version": "1.5.0",
      "_view_name": "ProgressView",
      "bar_style": "success",
      "description": "",
      "description_tooltip": null,
      "layout": "IPY_MODEL_924be869830f4771ac5c6782557c376b",
      "max": 112,
      "min": 0,
      "orientation": "horizontal",
      "style": "IPY_MODEL_25b01b3105244c3c8e2bb32c9d4f986f",
      "value": 112
     }
    },
    "e19fa87675814f5ba0a6e06ede1242f4": {
     "model_module": "@jupyter-widgets/controls",
     "model_module_version": "1.5.0",
     "model_name": "DescriptionStyleModel",
     "state": {
      "_model_module": "@jupyter-widgets/controls",
      "_model_module_version": "1.5.0",
      "_model_name": "DescriptionStyleModel",
      "_view_count": null,
      "_view_module": "@jupyter-widgets/base",
      "_view_module_version": "1.2.0",
      "_view_name": "StyleView",
      "description_width": ""
     }
    },
    "e226ad7a602b414bafb783eb5b86d0e1": {
     "model_module": "@jupyter-widgets/base",
     "model_module_version": "1.2.0",
     "model_name": "LayoutModel",
     "state": {
      "_model_module": "@jupyter-widgets/base",
      "_model_module_version": "1.2.0",
      "_model_name": "LayoutModel",
      "_view_count": null,
      "_view_module": "@jupyter-widgets/base",
      "_view_module_version": "1.2.0",
      "_view_name": "LayoutView",
      "align_content": null,
      "align_items": null,
      "align_self": null,
      "border": null,
      "bottom": null,
      "display": null,
      "flex": null,
      "flex_flow": null,
      "grid_area": null,
      "grid_auto_columns": null,
      "grid_auto_flow": null,
      "grid_auto_rows": null,
      "grid_column": null,
      "grid_gap": null,
      "grid_row": null,
      "grid_template_areas": null,
      "grid_template_columns": null,
      "grid_template_rows": null,
      "height": null,
      "justify_content": null,
      "justify_items": null,
      "left": null,
      "margin": null,
      "max_height": null,
      "max_width": null,
      "min_height": null,
      "min_width": null,
      "object_fit": null,
      "object_position": null,
      "order": null,
      "overflow": null,
      "overflow_x": null,
      "overflow_y": null,
      "padding": null,
      "right": null,
      "top": null,
      "visibility": null,
      "width": null
     }
    },
    "eb698e79539f47c7ba9f3b3e6cef6f8b": {
     "model_module": "@jupyter-widgets/controls",
     "model_module_version": "1.5.0",
     "model_name": "HTMLModel",
     "state": {
      "_dom_classes": [],
      "_model_module": "@jupyter-widgets/controls",
      "_model_module_version": "1.5.0",
      "_model_name": "HTMLModel",
      "_view_count": null,
      "_view_module": "@jupyter-widgets/controls",
      "_view_module_version": "1.5.0",
      "_view_name": "HTMLView",
      "description": "",
      "description_tooltip": null,
      "layout": "IPY_MODEL_e226ad7a602b414bafb783eb5b86d0e1",
      "placeholder": "​",
      "style": "IPY_MODEL_d7c035a729b94eb98e109a72b7ebf737",
      "value": "Downloading (…)lve/main/config.json: 100%"
     }
    },
    "ef7f1cc7537a46b2b81eff28049630c9": {
     "model_module": "@jupyter-widgets/base",
     "model_module_version": "1.2.0",
     "model_name": "LayoutModel",
     "state": {
      "_model_module": "@jupyter-widgets/base",
      "_model_module_version": "1.2.0",
      "_model_name": "LayoutModel",
      "_view_count": null,
      "_view_module": "@jupyter-widgets/base",
      "_view_module_version": "1.2.0",
      "_view_name": "LayoutView",
      "align_content": null,
      "align_items": null,
      "align_self": null,
      "border": null,
      "bottom": null,
      "display": null,
      "flex": null,
      "flex_flow": null,
      "grid_area": null,
      "grid_auto_columns": null,
      "grid_auto_flow": null,
      "grid_auto_rows": null,
      "grid_column": null,
      "grid_gap": null,
      "grid_row": null,
      "grid_template_areas": null,
      "grid_template_columns": null,
      "grid_template_rows": null,
      "height": null,
      "justify_content": null,
      "justify_items": null,
      "left": null,
      "margin": null,
      "max_height": null,
      "max_width": null,
      "min_height": null,
      "min_width": null,
      "object_fit": null,
      "object_position": null,
      "order": null,
      "overflow": null,
      "overflow_x": null,
      "overflow_y": null,
      "padding": null,
      "right": null,
      "top": null,
      "visibility": null,
      "width": null
     }
    },
    "f5357360c72f435a8ef901ec8f995dfd": {
     "model_module": "@jupyter-widgets/controls",
     "model_module_version": "1.5.0",
     "model_name": "ProgressStyleModel",
     "state": {
      "_model_module": "@jupyter-widgets/controls",
      "_model_module_version": "1.5.0",
      "_model_name": "ProgressStyleModel",
      "_view_count": null,
      "_view_module": "@jupyter-widgets/base",
      "_view_module_version": "1.2.0",
      "_view_name": "StyleView",
      "bar_color": null,
      "description_width": ""
     }
    },
    "f68fe741ddb349d7b85bbcee521f25e9": {
     "model_module": "@jupyter-widgets/controls",
     "model_module_version": "1.5.0",
     "model_name": "FloatProgressModel",
     "state": {
      "_dom_classes": [],
      "_model_module": "@jupyter-widgets/controls",
      "_model_module_version": "1.5.0",
      "_model_name": "FloatProgressModel",
      "_view_count": null,
      "_view_module": "@jupyter-widgets/controls",
      "_view_module_version": "1.5.0",
      "_view_name": "ProgressView",
      "bar_style": "",
      "description": "",
      "description_tooltip": null,
      "layout": "IPY_MODEL_1c0cbbea0ede4f00908d46f69d519935",
      "max": 2754,
      "min": 0,
      "orientation": "horizontal",
      "style": "IPY_MODEL_957888fcad2744f7b39fe01dd841a9a4",
      "value": 0
     }
    },
    "f8ad8a39c360483c9826f5d0dc12ac75": {
     "model_module": "@jupyter-widgets/controls",
     "model_module_version": "1.5.0",
     "model_name": "HBoxModel",
     "state": {
      "_dom_classes": [],
      "_model_module": "@jupyter-widgets/controls",
      "_model_module_version": "1.5.0",
      "_model_name": "HBoxModel",
      "_view_count": null,
      "_view_module": "@jupyter-widgets/controls",
      "_view_module_version": "1.5.0",
      "_view_name": "HBoxView",
      "box_style": "",
      "children": [
       "IPY_MODEL_9d01fafc7de447a38cd6b797e746c8b3",
       "IPY_MODEL_6d1e80fa41ee47cf8ae21250750e569a",
       "IPY_MODEL_8e1afe85b7bc4374b2364246ec74a9ff"
      ],
      "layout": "IPY_MODEL_3756f7f7a4ef4e049ff04279f0d8990e"
     }
    }
   }
  }
 },
 "nbformat": 4,
 "nbformat_minor": 1
}
